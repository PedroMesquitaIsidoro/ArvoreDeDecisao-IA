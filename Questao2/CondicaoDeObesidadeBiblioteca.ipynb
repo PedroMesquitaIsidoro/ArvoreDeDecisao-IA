{
  "nbformat": 4,
  "nbformat_minor": 0,
  "metadata": {
    "colab": {
      "provenance": [],
      "authorship_tag": "ABX9TyN7FdDlPH4OKofLp3f8T7pS",
      "include_colab_link": true
    },
    "kernelspec": {
      "name": "python3",
      "display_name": "Python 3"
    },
    "language_info": {
      "name": "python"
    }
  },
  "cells": [
    {
      "cell_type": "markdown",
      "metadata": {
        "id": "view-in-github",
        "colab_type": "text"
      },
      "source": [
        "<a href=\"https://colab.research.google.com/github/PedroMesquitaIsidoro/ArvoreDeDecisao-IA/blob/main/Questao2/CondicaoDeObesidadeBiblioteca.ipynb\" target=\"_parent\"><img src=\"https://colab.research.google.com/assets/colab-badge.svg\" alt=\"Open In Colab\"/></a>"
      ]
    },
    {
      "cell_type": "code",
      "source": [
        "import pandas as pd # para trabalhar com a planilha\n",
        "import numpy as np # para calculos \n",
        "base_risco_obesidade = pd.read_csv('Condicao_de_obesidade.csv')\n",
        "base_risco_obesidade"
      ],
      "metadata": {
        "colab": {
          "base_uri": "https://localhost:8080/",
          "height": 300
        },
        "id": "EdgtpcRgkLFN",
        "outputId": "62f972a9-9306-439c-e728-a3f08f6a92a2"
      },
      "execution_count": 2,
      "outputs": [
        {
          "output_type": "execute_result",
          "data": {
            "text/plain": [
              "    Come Vegetariano  Idade Diabetico Classe\n",
              "0  pouco         sim  velho       sim  magro\n",
              "1  medio         sim  velho       nao  magro\n",
              "2  muito         nao  velho       sim  gordo\n",
              "3  pouco         nao  velho       nao  magro\n",
              "4  medio         nao  jovem       sim  gordo\n",
              "5  pouco         sim  jovem       nao  magro\n",
              "6  muito         nao  velho       nao  gordo\n",
              "7  medio         nao   jovm       sim  gordo"
            ],
            "text/html": [
              "\n",
              "  <div id=\"df-e7aa0af7-6543-47ba-b1ad-d831ecf87b4a\">\n",
              "    <div class=\"colab-df-container\">\n",
              "      <div>\n",
              "<style scoped>\n",
              "    .dataframe tbody tr th:only-of-type {\n",
              "        vertical-align: middle;\n",
              "    }\n",
              "\n",
              "    .dataframe tbody tr th {\n",
              "        vertical-align: top;\n",
              "    }\n",
              "\n",
              "    .dataframe thead th {\n",
              "        text-align: right;\n",
              "    }\n",
              "</style>\n",
              "<table border=\"1\" class=\"dataframe\">\n",
              "  <thead>\n",
              "    <tr style=\"text-align: right;\">\n",
              "      <th></th>\n",
              "      <th>Come</th>\n",
              "      <th>Vegetariano</th>\n",
              "      <th>Idade</th>\n",
              "      <th>Diabetico</th>\n",
              "      <th>Classe</th>\n",
              "    </tr>\n",
              "  </thead>\n",
              "  <tbody>\n",
              "    <tr>\n",
              "      <th>0</th>\n",
              "      <td>pouco</td>\n",
              "      <td>sim</td>\n",
              "      <td>velho</td>\n",
              "      <td>sim</td>\n",
              "      <td>magro</td>\n",
              "    </tr>\n",
              "    <tr>\n",
              "      <th>1</th>\n",
              "      <td>medio</td>\n",
              "      <td>sim</td>\n",
              "      <td>velho</td>\n",
              "      <td>nao</td>\n",
              "      <td>magro</td>\n",
              "    </tr>\n",
              "    <tr>\n",
              "      <th>2</th>\n",
              "      <td>muito</td>\n",
              "      <td>nao</td>\n",
              "      <td>velho</td>\n",
              "      <td>sim</td>\n",
              "      <td>gordo</td>\n",
              "    </tr>\n",
              "    <tr>\n",
              "      <th>3</th>\n",
              "      <td>pouco</td>\n",
              "      <td>nao</td>\n",
              "      <td>velho</td>\n",
              "      <td>nao</td>\n",
              "      <td>magro</td>\n",
              "    </tr>\n",
              "    <tr>\n",
              "      <th>4</th>\n",
              "      <td>medio</td>\n",
              "      <td>nao</td>\n",
              "      <td>jovem</td>\n",
              "      <td>sim</td>\n",
              "      <td>gordo</td>\n",
              "    </tr>\n",
              "    <tr>\n",
              "      <th>5</th>\n",
              "      <td>pouco</td>\n",
              "      <td>sim</td>\n",
              "      <td>jovem</td>\n",
              "      <td>nao</td>\n",
              "      <td>magro</td>\n",
              "    </tr>\n",
              "    <tr>\n",
              "      <th>6</th>\n",
              "      <td>muito</td>\n",
              "      <td>nao</td>\n",
              "      <td>velho</td>\n",
              "      <td>nao</td>\n",
              "      <td>gordo</td>\n",
              "    </tr>\n",
              "    <tr>\n",
              "      <th>7</th>\n",
              "      <td>medio</td>\n",
              "      <td>nao</td>\n",
              "      <td>jovm</td>\n",
              "      <td>sim</td>\n",
              "      <td>gordo</td>\n",
              "    </tr>\n",
              "  </tbody>\n",
              "</table>\n",
              "</div>\n",
              "      <button class=\"colab-df-convert\" onclick=\"convertToInteractive('df-e7aa0af7-6543-47ba-b1ad-d831ecf87b4a')\"\n",
              "              title=\"Convert this dataframe to an interactive table.\"\n",
              "              style=\"display:none;\">\n",
              "        \n",
              "  <svg xmlns=\"http://www.w3.org/2000/svg\" height=\"24px\"viewBox=\"0 0 24 24\"\n",
              "       width=\"24px\">\n",
              "    <path d=\"M0 0h24v24H0V0z\" fill=\"none\"/>\n",
              "    <path d=\"M18.56 5.44l.94 2.06.94-2.06 2.06-.94-2.06-.94-.94-2.06-.94 2.06-2.06.94zm-11 1L8.5 8.5l.94-2.06 2.06-.94-2.06-.94L8.5 2.5l-.94 2.06-2.06.94zm10 10l.94 2.06.94-2.06 2.06-.94-2.06-.94-.94-2.06-.94 2.06-2.06.94z\"/><path d=\"M17.41 7.96l-1.37-1.37c-.4-.4-.92-.59-1.43-.59-.52 0-1.04.2-1.43.59L10.3 9.45l-7.72 7.72c-.78.78-.78 2.05 0 2.83L4 21.41c.39.39.9.59 1.41.59.51 0 1.02-.2 1.41-.59l7.78-7.78 2.81-2.81c.8-.78.8-2.07 0-2.86zM5.41 20L4 18.59l7.72-7.72 1.47 1.35L5.41 20z\"/>\n",
              "  </svg>\n",
              "      </button>\n",
              "      \n",
              "  <style>\n",
              "    .colab-df-container {\n",
              "      display:flex;\n",
              "      flex-wrap:wrap;\n",
              "      gap: 12px;\n",
              "    }\n",
              "\n",
              "    .colab-df-convert {\n",
              "      background-color: #E8F0FE;\n",
              "      border: none;\n",
              "      border-radius: 50%;\n",
              "      cursor: pointer;\n",
              "      display: none;\n",
              "      fill: #1967D2;\n",
              "      height: 32px;\n",
              "      padding: 0 0 0 0;\n",
              "      width: 32px;\n",
              "    }\n",
              "\n",
              "    .colab-df-convert:hover {\n",
              "      background-color: #E2EBFA;\n",
              "      box-shadow: 0px 1px 2px rgba(60, 64, 67, 0.3), 0px 1px 3px 1px rgba(60, 64, 67, 0.15);\n",
              "      fill: #174EA6;\n",
              "    }\n",
              "\n",
              "    [theme=dark] .colab-df-convert {\n",
              "      background-color: #3B4455;\n",
              "      fill: #D2E3FC;\n",
              "    }\n",
              "\n",
              "    [theme=dark] .colab-df-convert:hover {\n",
              "      background-color: #434B5C;\n",
              "      box-shadow: 0px 1px 3px 1px rgba(0, 0, 0, 0.15);\n",
              "      filter: drop-shadow(0px 1px 2px rgba(0, 0, 0, 0.3));\n",
              "      fill: #FFFFFF;\n",
              "    }\n",
              "  </style>\n",
              "\n",
              "      <script>\n",
              "        const buttonEl =\n",
              "          document.querySelector('#df-e7aa0af7-6543-47ba-b1ad-d831ecf87b4a button.colab-df-convert');\n",
              "        buttonEl.style.display =\n",
              "          google.colab.kernel.accessAllowed ? 'block' : 'none';\n",
              "\n",
              "        async function convertToInteractive(key) {\n",
              "          const element = document.querySelector('#df-e7aa0af7-6543-47ba-b1ad-d831ecf87b4a');\n",
              "          const dataTable =\n",
              "            await google.colab.kernel.invokeFunction('convertToInteractive',\n",
              "                                                     [key], {});\n",
              "          if (!dataTable) return;\n",
              "\n",
              "          const docLinkHtml = 'Like what you see? Visit the ' +\n",
              "            '<a target=\"_blank\" href=https://colab.research.google.com/notebooks/data_table.ipynb>data table notebook</a>'\n",
              "            + ' to learn more about interactive tables.';\n",
              "          element.innerHTML = '';\n",
              "          dataTable['output_type'] = 'display_data';\n",
              "          await google.colab.output.renderOutput(dataTable, element);\n",
              "          const docLink = document.createElement('div');\n",
              "          docLink.innerHTML = docLinkHtml;\n",
              "          element.appendChild(docLink);\n",
              "        }\n",
              "      </script>\n",
              "    </div>\n",
              "  </div>\n",
              "  "
            ]
          },
          "metadata": {},
          "execution_count": 2
        }
      ]
    },
    {
      "cell_type": "code",
      "source": [
        "#Pre-processamento dos dados\n",
        "x_risco_obesidade = base_risco_obesidade.iloc[:, 0:4].values\n",
        "x_risco_obesidade #mostra todos os atributos com excessao da clase"
      ],
      "metadata": {
        "colab": {
          "base_uri": "https://localhost:8080/"
        },
        "id": "lD3wPIXT0FZl",
        "outputId": "cef4f77d-1b43-492b-f5a5-13a8cb7d0380"
      },
      "execution_count": 3,
      "outputs": [
        {
          "output_type": "execute_result",
          "data": {
            "text/plain": [
              "array([['pouco', 'sim', 'velho', 'sim'],\n",
              "       ['medio', 'sim', 'velho', 'nao'],\n",
              "       ['muito', 'nao', 'velho', 'sim'],\n",
              "       ['pouco', 'nao', 'velho', 'nao'],\n",
              "       ['medio', 'nao', 'jovem', 'sim'],\n",
              "       ['pouco', 'sim', 'jovem', 'nao'],\n",
              "       ['muito', 'nao', 'velho', 'nao'],\n",
              "       ['medio', 'nao', 'jovm', 'sim']], dtype=object)"
            ]
          },
          "metadata": {},
          "execution_count": 3
        }
      ]
    },
    {
      "cell_type": "code",
      "source": [
        "#Pre-processamento dos dados\n",
        "y_risco_obesidade = base_risco_obesidade.iloc[:, 4].values\n",
        "y_risco_obesidade #mostrar classe"
      ],
      "metadata": {
        "colab": {
          "base_uri": "https://localhost:8080/"
        },
        "id": "5JcS0KkZ0glt",
        "outputId": "bce7b4c3-9c89-4509-c0bc-1aec356b833f"
      },
      "execution_count": 4,
      "outputs": [
        {
          "output_type": "execute_result",
          "data": {
            "text/plain": [
              "array(['magro', 'magro', 'gordo', 'magro', 'gordo', 'magro', 'gordo',\n",
              "       'gordo'], dtype=object)"
            ]
          },
          "metadata": {},
          "execution_count": 4
        }
      ]
    },
    {
      "cell_type": "code",
      "source": [
        "#Pre-processamento dos dados\n",
        "from sklearn.preprocessing import LabelEncoder\n",
        "label_encoder_come = LabelEncoder()\n",
        "label_encoder_vegetariano = LabelEncoder()\n",
        "label_encoder_idade = LabelEncoder()\n",
        "label_encoder_diabetico = LabelEncoder()"
      ],
      "metadata": {
        "id": "onFiTdY50teG"
      },
      "execution_count": 5,
      "outputs": []
    },
    {
      "cell_type": "code",
      "source": [
        "#Pre-processamento dos dados\n",
        "x_risco_obesidade[:, 0] = label_encoder_come.fit_transform(x_risco_obesidade[:, 0])\n",
        "x_risco_obesidade[:, 1] = label_encoder_vegetariano.fit_transform(x_risco_obesidade[:, 1])\n",
        "x_risco_obesidade[:, 2] = label_encoder_idade.fit_transform(x_risco_obesidade[:, 2])\n",
        "x_risco_obesidade[:, 3] = label_encoder_diabetico.fit_transform(x_risco_obesidade[:, 3])"
      ],
      "metadata": {
        "id": "5mZcYTRR01ls"
      },
      "execution_count": 6,
      "outputs": []
    },
    {
      "cell_type": "code",
      "source": [
        "x_risco_obesidade"
      ],
      "metadata": {
        "colab": {
          "base_uri": "https://localhost:8080/"
        },
        "id": "J0VpH9VW1Tms",
        "outputId": "ac5a1ee3-7867-4177-dce8-ff779acd3674"
      },
      "execution_count": 7,
      "outputs": [
        {
          "output_type": "execute_result",
          "data": {
            "text/plain": [
              "array([[2, 1, 2, 1],\n",
              "       [0, 1, 2, 0],\n",
              "       [1, 0, 2, 1],\n",
              "       [2, 0, 2, 0],\n",
              "       [0, 0, 0, 1],\n",
              "       [2, 1, 0, 0],\n",
              "       [1, 0, 2, 0],\n",
              "       [0, 0, 1, 1]], dtype=object)"
            ]
          },
          "metadata": {},
          "execution_count": 7
        }
      ]
    },
    {
      "cell_type": "code",
      "source": [
        "# salvando os dados pre-processados\n",
        "import pickle\n",
        "with open('risco_obesidade.pkl', 'wb') as f:\n",
        "  pickle.dump([x_risco_obesidade, y_risco_obesidade], f)"
      ],
      "metadata": {
        "id": "OULksTPH1fBk"
      },
      "execution_count": 8,
      "outputs": []
    },
    {
      "cell_type": "code",
      "source": [
        "from sklearn.tree import DecisionTreeClassifier"
      ],
      "metadata": {
        "id": "nhbZmphK1qoD"
      },
      "execution_count": 15,
      "outputs": []
    },
    {
      "cell_type": "code",
      "source": [
        "import pickle\n",
        "with open('risco_obesidade.pkl', 'rb') as f:  # abrindo o arquivo já pre-processado\n",
        "  x_risco_obesidade, y_risco_obesidade = pickle.load(f)\n"
      ],
      "metadata": {
        "id": "1vMPxCjL1tUj"
      },
      "execution_count": 9,
      "outputs": []
    },
    {
      "cell_type": "code",
      "source": [
        "x_risco_obesidade"
      ],
      "metadata": {
        "colab": {
          "base_uri": "https://localhost:8080/"
        },
        "id": "jg2qWJDy15FZ",
        "outputId": "44323725-f7c7-405e-b358-ea1e0dee2981"
      },
      "execution_count": 10,
      "outputs": [
        {
          "output_type": "execute_result",
          "data": {
            "text/plain": [
              "array([[2, 1, 2, 1],\n",
              "       [0, 1, 2, 0],\n",
              "       [1, 0, 2, 1],\n",
              "       [2, 0, 2, 0],\n",
              "       [0, 0, 0, 1],\n",
              "       [2, 1, 0, 0],\n",
              "       [1, 0, 2, 0],\n",
              "       [0, 0, 1, 1]], dtype=object)"
            ]
          },
          "metadata": {},
          "execution_count": 10
        }
      ]
    },
    {
      "cell_type": "code",
      "source": [
        "y_risco_obesidade"
      ],
      "metadata": {
        "colab": {
          "base_uri": "https://localhost:8080/"
        },
        "id": "P97a39je17kX",
        "outputId": "fdcfad0d-4b4a-47eb-abdd-accb0d53c553"
      },
      "execution_count": 11,
      "outputs": [
        {
          "output_type": "execute_result",
          "data": {
            "text/plain": [
              "array(['magro', 'magro', 'gordo', 'magro', 'gordo', 'magro', 'gordo',\n",
              "       'gordo'], dtype=object)"
            ]
          },
          "metadata": {},
          "execution_count": 11
        }
      ]
    },
    {
      "cell_type": "code",
      "source": [
        "#Criando a arvore de decisao com o criterio da entropia\n",
        "arvore_risco_obesidade = DecisionTreeClassifier(criterion='entropy')\n",
        "arvore_risco_obesidade.fit(x_risco_obesidade, y_risco_obesidade)"
      ],
      "metadata": {
        "colab": {
          "base_uri": "https://localhost:8080/"
        },
        "id": "IosTAgs01-9f",
        "outputId": "d603205f-a2d2-4a9f-a615-1997a5caf182"
      },
      "execution_count": 16,
      "outputs": [
        {
          "output_type": "execute_result",
          "data": {
            "text/plain": [
              "DecisionTreeClassifier(criterion='entropy')"
            ]
          },
          "metadata": {},
          "execution_count": 16
        }
      ]
    },
    {
      "cell_type": "code",
      "source": [
        "#Aqui eh realizado o calculo dos atributos com maiores ganho de informacao\n",
        "#Perceba que o que apresenta maior ganho de informacao eh o que esta mais a esquerda, localizado na primeira posicao\n",
        "#do array. No caso 'come' eh o atributo com maior ganho de informacao.\n",
        "#Ranking dos maiores ganhos\n",
        "# 1 -> Come = 0.54879494\n",
        "# 2 -> Vegetariano = 0.45120506\n",
        "# 3 -> Idade = 0.0\n",
        "# 4 -> Diabetico = 0.0\n",
        "#Sendo assim, a 'come' sera a raiz da nossa arvore\n",
        "arvore_risco_obesidade.feature_importances_"
      ],
      "metadata": {
        "colab": {
          "base_uri": "https://localhost:8080/"
        },
        "id": "OLVNLttl2nts",
        "outputId": "3feacfc9-b67e-49c0-b74e-fafa7e2b8ffc"
      },
      "execution_count": 18,
      "outputs": [
        {
          "output_type": "execute_result",
          "data": {
            "text/plain": [
              "array([0.54879494, 0.45120506, 0.        , 0.        ])"
            ]
          },
          "metadata": {},
          "execution_count": 18
        }
      ]
    },
    {
      "cell_type": "code",
      "source": [
        "from sklearn import tree\n",
        "import matplotlib.pyplot as plt\n",
        "\n",
        "previsores = ['Come', 'Vegetariano', 'Idade', 'Diabetico']\n",
        "figura, eixos = plt.subplots(nrows = 1, ncols =1, figsize=(10,10))\n",
        "tree.plot_tree(arvore_risco_obesidade, feature_names=previsores, class_names = arvore_risco_obesidade.classes_, filled= True)"
      ],
      "metadata": {
        "colab": {
          "base_uri": "https://localhost:8080/",
          "height": 662
        },
        "id": "rHTiamFR3Ulc",
        "outputId": "178eeec8-7d8a-416f-aa2e-4db8ab9176de"
      },
      "execution_count": 19,
      "outputs": [
        {
          "output_type": "execute_result",
          "data": {
            "text/plain": [
              "[Text(0.6, 0.8333333333333334, 'Come <= 1.5\\nentropy = 1.0\\nsamples = 8\\nvalue = [4, 4]\\nclass = gordo'),\n",
              " Text(0.4, 0.5, 'Vegetariano <= 0.5\\nentropy = 0.722\\nsamples = 5\\nvalue = [4, 1]\\nclass = gordo'),\n",
              " Text(0.2, 0.16666666666666666, 'entropy = 0.0\\nsamples = 4\\nvalue = [4, 0]\\nclass = gordo'),\n",
              " Text(0.6, 0.16666666666666666, 'entropy = 0.0\\nsamples = 1\\nvalue = [0, 1]\\nclass = magro'),\n",
              " Text(0.8, 0.5, 'entropy = 0.0\\nsamples = 3\\nvalue = [0, 3]\\nclass = magro')]"
            ]
          },
          "metadata": {},
          "execution_count": 19
        },
        {
          "output_type": "display_data",
          "data": {
            "text/plain": [
              "<Figure size 720x720 with 1 Axes>"
            ],
            "image/png": "[encoded data removed]"
          },
          "metadata": {
            "needs_background": "light"
          }
        }
      ]
    }
  ]
}
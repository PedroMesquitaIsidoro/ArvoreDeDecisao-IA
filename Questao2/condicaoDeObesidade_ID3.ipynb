{
  "nbformat": 4,
  "nbformat_minor": 0,
  "metadata": {
    "colab": {
      "provenance": [],
      "collapsed_sections": [],
      "authorship_tag": "ABX9TyPiKvXv/ilqVuWaIyllpaNY",
      "include_colab_link": true
    },
    "kernelspec": {
      "name": "python3",
      "display_name": "Python 3"
    },
    "language_info": {
      "name": "python"
    }
  },
  "cells": [
    {
      "cell_type": "markdown",
      "metadata": {
        "id": "view-in-github",
        "colab_type": "text"
      },
      "source": [
        "<a href=\"https://colab.research.google.com/github/PedroMesquitaIsidoro/ArvoreDeDecisao-IA/blob/main/Questao2/condicaoDeObesidade_ID3.ipynb\" target=\"_parent\"><img src=\"https://colab.research.google.com/assets/colab-badge.svg\" alt=\"Open In Colab\"/></a>"
      ]
    },
    {
      "cell_type": "code",
      "execution_count": null,
      "metadata": {
        "id": "ll4Sejb9MCxb"
      },
      "outputs": [],
      "source": [
        "import pandas as pd # para trabalhar com a planilha\n",
        "import numpy as np # para calculos "
      ]
    },
    {
      "cell_type": "code",
      "source": [
        "train_data_m = pd.read_csv(\"Condicao_de_obesidade.csv\") #importando a base de dados\n",
        "train_data_m.head() #visualizando\n",
        "\n"
      ],
      "metadata": {
        "colab": {
          "base_uri": "https://localhost:8080/",
          "height": 206
        },
        "id": "PrfHmrUkMMil",
        "outputId": "7a558302-d19c-4a1f-a3ea-64b3be60d24f"
      },
      "execution_count": null,
      "outputs": [
        {
          "output_type": "execute_result",
          "data": {
            "text/plain": [
              "    Come Vegetariano  Idade Diabetico Classe\n",
              "0  pouco         sim  velho       sim  magro\n",
              "1  medio         sim  velho       nao  magro\n",
              "2  muito         nao  velho       sim  gordo\n",
              "3  pouco         nao  velho       nao  magro\n",
              "4  medio         nao  jovem       sim  gordo"
            ],
            "text/html": [
              "\n",
              "  <div id=\"df-e69cc207-59bc-4d43-b0d1-29f2bd3a3439\">\n",
              "    <div class=\"colab-df-container\">\n",
              "      <div>\n",
              "<style scoped>\n",
              "    .dataframe tbody tr th:only-of-type {\n",
              "        vertical-align: middle;\n",
              "    }\n",
              "\n",
              "    .dataframe tbody tr th {\n",
              "        vertical-align: top;\n",
              "    }\n",
              "\n",
              "    .dataframe thead th {\n",
              "        text-align: right;\n",
              "    }\n",
              "</style>\n",
              "<table border=\"1\" class=\"dataframe\">\n",
              "  <thead>\n",
              "    <tr style=\"text-align: right;\">\n",
              "      <th></th>\n",
              "      <th>Come</th>\n",
              "      <th>Vegetariano</th>\n",
              "      <th>Idade</th>\n",
              "      <th>Diabetico</th>\n",
              "      <th>Classe</th>\n",
              "    </tr>\n",
              "  </thead>\n",
              "  <tbody>\n",
              "    <tr>\n",
              "      <th>0</th>\n",
              "      <td>pouco</td>\n",
              "      <td>sim</td>\n",
              "      <td>velho</td>\n",
              "      <td>sim</td>\n",
              "      <td>magro</td>\n",
              "    </tr>\n",
              "    <tr>\n",
              "      <th>1</th>\n",
              "      <td>medio</td>\n",
              "      <td>sim</td>\n",
              "      <td>velho</td>\n",
              "      <td>nao</td>\n",
              "      <td>magro</td>\n",
              "    </tr>\n",
              "    <tr>\n",
              "      <th>2</th>\n",
              "      <td>muito</td>\n",
              "      <td>nao</td>\n",
              "      <td>velho</td>\n",
              "      <td>sim</td>\n",
              "      <td>gordo</td>\n",
              "    </tr>\n",
              "    <tr>\n",
              "      <th>3</th>\n",
              "      <td>pouco</td>\n",
              "      <td>nao</td>\n",
              "      <td>velho</td>\n",
              "      <td>nao</td>\n",
              "      <td>magro</td>\n",
              "    </tr>\n",
              "    <tr>\n",
              "      <th>4</th>\n",
              "      <td>medio</td>\n",
              "      <td>nao</td>\n",
              "      <td>jovem</td>\n",
              "      <td>sim</td>\n",
              "      <td>gordo</td>\n",
              "    </tr>\n",
              "  </tbody>\n",
              "</table>\n",
              "</div>\n",
              "      <button class=\"colab-df-convert\" onclick=\"convertToInteractive('df-e69cc207-59bc-4d43-b0d1-29f2bd3a3439')\"\n",
              "              title=\"Convert this dataframe to an interactive table.\"\n",
              "              style=\"display:none;\">\n",
              "        \n",
              "  <svg xmlns=\"http://www.w3.org/2000/svg\" height=\"24px\"viewBox=\"0 0 24 24\"\n",
              "       width=\"24px\">\n",
              "    <path d=\"M0 0h24v24H0V0z\" fill=\"none\"/>\n",
              "    <path d=\"M18.56 5.44l.94 2.06.94-2.06 2.06-.94-2.06-.94-.94-2.06-.94 2.06-2.06.94zm-11 1L8.5 8.5l.94-2.06 2.06-.94-2.06-.94L8.5 2.5l-.94 2.06-2.06.94zm10 10l.94 2.06.94-2.06 2.06-.94-2.06-.94-.94-2.06-.94 2.06-2.06.94z\"/><path d=\"M17.41 7.96l-1.37-1.37c-.4-.4-.92-.59-1.43-.59-.52 0-1.04.2-1.43.59L10.3 9.45l-7.72 7.72c-.78.78-.78 2.05 0 2.83L4 21.41c.39.39.9.59 1.41.59.51 0 1.02-.2 1.41-.59l7.78-7.78 2.81-2.81c.8-.78.8-2.07 0-2.86zM5.41 20L4 18.59l7.72-7.72 1.47 1.35L5.41 20z\"/>\n",
              "  </svg>\n",
              "      </button>\n",
              "      \n",
              "  <style>\n",
              "    .colab-df-container {\n",
              "      display:flex;\n",
              "      flex-wrap:wrap;\n",
              "      gap: 12px;\n",
              "    }\n",
              "\n",
              "    .colab-df-convert {\n",
              "      background-color: #E8F0FE;\n",
              "      border: none;\n",
              "      border-radius: 50%;\n",
              "      cursor: pointer;\n",
              "      display: none;\n",
              "      fill: #1967D2;\n",
              "      height: 32px;\n",
              "      padding: 0 0 0 0;\n",
              "      width: 32px;\n",
              "    }\n",
              "\n",
              "    .colab-df-convert:hover {\n",
              "      background-color: #E2EBFA;\n",
              "      box-shadow: 0px 1px 2px rgba(60, 64, 67, 0.3), 0px 1px 3px 1px rgba(60, 64, 67, 0.15);\n",
              "      fill: #174EA6;\n",
              "    }\n",
              "\n",
              "    [theme=dark] .colab-df-convert {\n",
              "      background-color: #3B4455;\n",
              "      fill: #D2E3FC;\n",
              "    }\n",
              "\n",
              "    [theme=dark] .colab-df-convert:hover {\n",
              "      background-color: #434B5C;\n",
              "      box-shadow: 0px 1px 3px 1px rgba(0, 0, 0, 0.15);\n",
              "      filter: drop-shadow(0px 1px 2px rgba(0, 0, 0, 0.3));\n",
              "      fill: #FFFFFF;\n",
              "    }\n",
              "  </style>\n",
              "\n",
              "      <script>\n",
              "        const buttonEl =\n",
              "          document.querySelector('#df-e69cc207-59bc-4d43-b0d1-29f2bd3a3439 button.colab-df-convert');\n",
              "        buttonEl.style.display =\n",
              "          google.colab.kernel.accessAllowed ? 'block' : 'none';\n",
              "\n",
              "        async function convertToInteractive(key) {\n",
              "          const element = document.querySelector('#df-e69cc207-59bc-4d43-b0d1-29f2bd3a3439');\n",
              "          const dataTable =\n",
              "            await google.colab.kernel.invokeFunction('convertToInteractive',\n",
              "                                                     [key], {});\n",
              "          if (!dataTable) return;\n",
              "\n",
              "          const docLinkHtml = 'Like what you see? Visit the ' +\n",
              "            '<a target=\"_blank\" href=https://colab.research.google.com/notebooks/data_table.ipynb>data table notebook</a>'\n",
              "            + ' to learn more about interactive tables.';\n",
              "          element.innerHTML = '';\n",
              "          dataTable['output_type'] = 'display_data';\n",
              "          await google.colab.output.renderOutput(dataTable, element);\n",
              "          const docLink = document.createElement('div');\n",
              "          docLink.innerHTML = docLinkHtml;\n",
              "          element.appendChild(docLink);\n",
              "        }\n",
              "      </script>\n",
              "    </div>\n",
              "  </div>\n",
              "  "
            ]
          },
          "metadata": {},
          "execution_count": 2
        }
      ]
    },
    {
      "cell_type": "code",
      "source": [
        "def calc_total_entropy(train_data, label, class_list):\n",
        "    total_row = train_data.shape[0] #the total size of the dataset\n",
        "    total_entr = 0\n",
        "    \n",
        "    for c in class_list: #for each class in the label\n",
        "        total_class_count = train_data[train_data[label] == c].shape[0] #number of the class\n",
        "        total_class_entr = - (total_class_count/total_row)*np.log2(total_class_count/total_row) #entropy of the class\n",
        "        total_entr += total_class_entr #adding the class entropy to the total entropy of the dataset\n",
        "    \n",
        "    return total_entr"
      ],
      "metadata": {
        "id": "dhE24FGNMrnn"
      },
      "execution_count": null,
      "outputs": []
    },
    {
      "cell_type": "code",
      "source": [
        "def calc_entropy(feature_value_data, label, class_list):\n",
        "    class_count = feature_value_data.shape[0]\n",
        "    entropy = 0\n",
        "    \n",
        "    for c in class_list:\n",
        "        label_class_count = feature_value_data[feature_value_data[label] == c].shape[0] #row count of class c \n",
        "        entropy_class = 0\n",
        "        if label_class_count != 0:\n",
        "            probability_class = label_class_count/class_count #probability of the class\n",
        "            entropy_class = - probability_class * np.log2(probability_class)  #entropy\n",
        "        entropy += entropy_class\n",
        "    \n",
        "    return entropy"
      ],
      "metadata": {
        "id": "NK-E9gmdMwPe"
      },
      "execution_count": null,
      "outputs": []
    },
    {
      "cell_type": "code",
      "source": [
        "def calc_info_gain(feature_name, train_data, label, class_list):\n",
        "    feature_value_list = train_data[feature_name].unique() #unqiue values of the feature\n",
        "    total_row = train_data.shape[0]\n",
        "    feature_info = 0.0\n",
        "    \n",
        "    for feature_value in feature_value_list:\n",
        "        feature_value_data = train_data[train_data[feature_name] == feature_value] #filtering rows with that feature_value\n",
        "        feature_value_count = feature_value_data.shape[0]\n",
        "        feature_value_entropy = calc_entropy(feature_value_data, label, class_list) #calculcating entropy for the feature value\n",
        "        feature_value_probability = feature_value_count/total_row\n",
        "        feature_info += feature_value_probability * feature_value_entropy #calculating information of the feature value\n",
        "    \n",
        "    return calc_total_entropy(train_data, label, class_list) - feature_info #calculating information gain by subtracting\n"
      ],
      "metadata": {
        "id": "DvJMN4Q3M23e"
      },
      "execution_count": null,
      "outputs": []
    },
    {
      "cell_type": "code",
      "source": [
        "def find_most_informative_feature(train_data, label, class_list):\n",
        "    feature_list = train_data.columns.drop(label) #finding the feature names in the dataset\n",
        "                                            #N.B. label is not a feature, so dropping it\n",
        "    max_info_gain = -1\n",
        "    max_info_feature = None\n",
        "    \n",
        "    for feature in feature_list:  #for each feature in the dataset\n",
        "        feature_info_gain = calc_info_gain(feature, train_data, label, class_list)\n",
        "        if max_info_gain < feature_info_gain: #selecting feature name with highest information gain\n",
        "            max_info_gain = feature_info_gain\n",
        "            max_info_feature = feature\n",
        "            \n",
        "    return max_info_feature"
      ],
      "metadata": {
        "id": "AlpiJxUKM6lO"
      },
      "execution_count": null,
      "outputs": []
    },
    {
      "cell_type": "code",
      "source": [
        "def generate_sub_tree(feature_name, train_data, label, class_list):\n",
        "    feature_value_count_dict = train_data[feature_name].value_counts(sort=False) #dictionary of the count of unqiue feature value\n",
        "    tree = {} #sub tree or node\n",
        "    \n",
        "    for feature_value, count in feature_value_count_dict.iteritems():\n",
        "        feature_value_data = train_data[train_data[feature_name] == feature_value] #dataset with only feature_name = feature_value\n",
        "        \n",
        "        assigned_to_node = False #flag for tracking feature_value is pure class or not\n",
        "        for c in class_list: #for each class\n",
        "            class_count = feature_value_data[feature_value_data[label] == c].shape[0] #count of class c\n",
        "\n",
        "            if class_count == count: #count of (feature_value = count) of class (pure class)\n",
        "                tree[feature_value] = c #adding node to the tree\n",
        "                train_data = train_data[train_data[feature_name] != feature_value] #removing rows with feature_value\n",
        "                assigned_to_node = True\n",
        "        if not assigned_to_node: #not pure class\n",
        "            tree[feature_value] = \"?\" #as feature_value is not a pure class, it should be expanded further, \n",
        "                                      #so the branch is marking with ?\n",
        "            \n",
        "    return tree, train_data"
      ],
      "metadata": {
        "id": "yoAunGiSM-Lv"
      },
      "execution_count": null,
      "outputs": []
    },
    {
      "cell_type": "code",
      "source": [
        "def make_tree(root, prev_feature_value, train_data, label, class_list):\n",
        "    if train_data.shape[0] != 0: #if dataset becomes enpty after updating\n",
        "        max_info_feature = find_most_informative_feature(train_data, label, class_list) #most informative feature\n",
        "        tree, train_data = generate_sub_tree(max_info_feature, train_data, label, class_list) #getting tree node and updated dataset\n",
        "        next_root = None\n",
        "        \n",
        "        if prev_feature_value != None: #add to intermediate node of the tree\n",
        "            root[prev_feature_value] = dict()\n",
        "            root[prev_feature_value][max_info_feature] = tree\n",
        "            next_root = root[prev_feature_value][max_info_feature]\n",
        "        else: #add to root of the tree\n",
        "            root[max_info_feature] = tree\n",
        "            next_root = root[max_info_feature]\n",
        "        \n",
        "        for node, branch in list(next_root.items()): #iterating the tree node\n",
        "            if branch == \"?\": #if it is expandable\n",
        "                feature_value_data = train_data[train_data[max_info_feature] == node] #using the updated dataset\n",
        "                make_tree(next_root, node, feature_value_data, label, class_list) #recursive call with updated dataset"
      ],
      "metadata": {
        "id": "_AbnBQA-NGLn"
      },
      "execution_count": null,
      "outputs": []
    },
    {
      "cell_type": "code",
      "source": [
        "def id3(train_data_m, label):\n",
        "    train_data = train_data_m.copy() #getting a copy of the dataset\n",
        "    tree = {} #tree which will be updated\n",
        "    class_list = train_data[label].unique() #getting unqiue classes of the label\n",
        "    make_tree(tree, None, train_data, label, class_list) #start calling recursion\n",
        "    return tree"
      ],
      "metadata": {
        "id": "qNn3vA8pNJuX"
      },
      "execution_count": null,
      "outputs": []
    },
    {
      "cell_type": "code",
      "source": [
        "tree = id3(train_data_m, 'Classe')\n",
        "print(tree)\n"
      ],
      "metadata": {
        "colab": {
          "base_uri": "https://localhost:8080/"
        },
        "id": "XEQIdBKNNM3H",
        "outputId": "ff2c7a55-1d7f-45d9-f096-9fe40c741521"
      },
      "execution_count": null,
      "outputs": [
        {
          "output_type": "stream",
          "name": "stdout",
          "text": [
            "{'Come': {'pouco': 'magro', 'medio': {'Vegetariano': {'sim': 'magro', 'nao': 'gordo'}}, 'muito': 'gordo'}}\n"
          ]
        }
      ]
    }
  ]
}
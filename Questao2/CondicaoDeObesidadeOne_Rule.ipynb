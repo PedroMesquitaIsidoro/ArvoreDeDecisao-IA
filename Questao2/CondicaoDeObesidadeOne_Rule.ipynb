{
  "nbformat": 4,
  "nbformat_minor": 0,
  "metadata": {
    "colab": {
      "provenance": [],
      "authorship_tag": "ABX9TyNyjJu2R6jSJ3IxuS99ckdz",
      "include_colab_link": true
    },
    "kernelspec": {
      "name": "python3",
      "display_name": "Python 3"
    },
    "language_info": {
      "name": "python"
    }
  },
  "cells": [
    {
      "cell_type": "markdown",
      "metadata": {
        "id": "view-in-github",
        "colab_type": "text"
      },
      "source": [
        "<a href=\"https://colab.research.google.com/github/PedroMesquitaIsidoro/ArvoreDeDecisao-IA/blob/main/Questao2/CondicaoDeObesidadeOne_Rule.ipynb\" target=\"_parent\"><img src=\"https://colab.research.google.com/assets/colab-badge.svg\" alt=\"Open In Colab\"/></a>"
      ]
    },
    {
      "cell_type": "code",
      "execution_count": 1,
      "metadata": {
        "id": "9KJgOivwx219"
      },
      "outputs": [],
      "source": [
        "import pandas as pd\n"
      ]
    },
    {
      "cell_type": "code",
      "source": [
        "dados = pd.read_csv(\"Condicao_de_obesidade.csv\")\n",
        "dados"
      ],
      "metadata": {
        "colab": {
          "base_uri": "https://localhost:8080/",
          "height": 300
        },
        "id": "vYmmFLx7yF7N",
        "outputId": "bd6d4402-89aa-48d7-afb3-99ac4463f6b8"
      },
      "execution_count": 2,
      "outputs": [
        {
          "output_type": "execute_result",
          "data": {
            "text/plain": [
              "    Come Vegetariano  Idade Diabetico Classe\n",
              "0  pouco         sim  velho       sim  magro\n",
              "1  medio         sim  velho       nao  magro\n",
              "2  muito         nao  velho       sim  gordo\n",
              "3  pouco         nao  velho       nao  magro\n",
              "4  medio         nao  jovem       sim  gordo\n",
              "5  pouco         sim  jovem       nao  magro\n",
              "6  muito         nao  velho       nao  gordo\n",
              "7  medio         nao  jovem       sim  gordo"
            ],
            "text/html": [
              "\n",
              "  <div id=\"df-c4bf474b-8129-4e27-9f96-8b3723141d84\">\n",
              "    <div class=\"colab-df-container\">\n",
              "      <div>\n",
              "<style scoped>\n",
              "    .dataframe tbody tr th:only-of-type {\n",
              "        vertical-align: middle;\n",
              "    }\n",
              "\n",
              "    .dataframe tbody tr th {\n",
              "        vertical-align: top;\n",
              "    }\n",
              "\n",
              "    .dataframe thead th {\n",
              "        text-align: right;\n",
              "    }\n",
              "</style>\n",
              "<table border=\"1\" class=\"dataframe\">\n",
              "  <thead>\n",
              "    <tr style=\"text-align: right;\">\n",
              "      <th></th>\n",
              "      <th>Come</th>\n",
              "      <th>Vegetariano</th>\n",
              "      <th>Idade</th>\n",
              "      <th>Diabetico</th>\n",
              "      <th>Classe</th>\n",
              "    </tr>\n",
              "  </thead>\n",
              "  <tbody>\n",
              "    <tr>\n",
              "      <th>0</th>\n",
              "      <td>pouco</td>\n",
              "      <td>sim</td>\n",
              "      <td>velho</td>\n",
              "      <td>sim</td>\n",
              "      <td>magro</td>\n",
              "    </tr>\n",
              "    <tr>\n",
              "      <th>1</th>\n",
              "      <td>medio</td>\n",
              "      <td>sim</td>\n",
              "      <td>velho</td>\n",
              "      <td>nao</td>\n",
              "      <td>magro</td>\n",
              "    </tr>\n",
              "    <tr>\n",
              "      <th>2</th>\n",
              "      <td>muito</td>\n",
              "      <td>nao</td>\n",
              "      <td>velho</td>\n",
              "      <td>sim</td>\n",
              "      <td>gordo</td>\n",
              "    </tr>\n",
              "    <tr>\n",
              "      <th>3</th>\n",
              "      <td>pouco</td>\n",
              "      <td>nao</td>\n",
              "      <td>velho</td>\n",
              "      <td>nao</td>\n",
              "      <td>magro</td>\n",
              "    </tr>\n",
              "    <tr>\n",
              "      <th>4</th>\n",
              "      <td>medio</td>\n",
              "      <td>nao</td>\n",
              "      <td>jovem</td>\n",
              "      <td>sim</td>\n",
              "      <td>gordo</td>\n",
              "    </tr>\n",
              "    <tr>\n",
              "      <th>5</th>\n",
              "      <td>pouco</td>\n",
              "      <td>sim</td>\n",
              "      <td>jovem</td>\n",
              "      <td>nao</td>\n",
              "      <td>magro</td>\n",
              "    </tr>\n",
              "    <tr>\n",
              "      <th>6</th>\n",
              "      <td>muito</td>\n",
              "      <td>nao</td>\n",
              "      <td>velho</td>\n",
              "      <td>nao</td>\n",
              "      <td>gordo</td>\n",
              "    </tr>\n",
              "    <tr>\n",
              "      <th>7</th>\n",
              "      <td>medio</td>\n",
              "      <td>nao</td>\n",
              "      <td>jovem</td>\n",
              "      <td>sim</td>\n",
              "      <td>gordo</td>\n",
              "    </tr>\n",
              "  </tbody>\n",
              "</table>\n",
              "</div>\n",
              "      <button class=\"colab-df-convert\" onclick=\"convertToInteractive('df-c4bf474b-8129-4e27-9f96-8b3723141d84')\"\n",
              "              title=\"Convert this dataframe to an interactive table.\"\n",
              "              style=\"display:none;\">\n",
              "        \n",
              "  <svg xmlns=\"http://www.w3.org/2000/svg\" height=\"24px\"viewBox=\"0 0 24 24\"\n",
              "       width=\"24px\">\n",
              "    <path d=\"M0 0h24v24H0V0z\" fill=\"none\"/>\n",
              "    <path d=\"M18.56 5.44l.94 2.06.94-2.06 2.06-.94-2.06-.94-.94-2.06-.94 2.06-2.06.94zm-11 1L8.5 8.5l.94-2.06 2.06-.94-2.06-.94L8.5 2.5l-.94 2.06-2.06.94zm10 10l.94 2.06.94-2.06 2.06-.94-2.06-.94-.94-2.06-.94 2.06-2.06.94z\"/><path d=\"M17.41 7.96l-1.37-1.37c-.4-.4-.92-.59-1.43-.59-.52 0-1.04.2-1.43.59L10.3 9.45l-7.72 7.72c-.78.78-.78 2.05 0 2.83L4 21.41c.39.39.9.59 1.41.59.51 0 1.02-.2 1.41-.59l7.78-7.78 2.81-2.81c.8-.78.8-2.07 0-2.86zM5.41 20L4 18.59l7.72-7.72 1.47 1.35L5.41 20z\"/>\n",
              "  </svg>\n",
              "      </button>\n",
              "      \n",
              "  <style>\n",
              "    .colab-df-container {\n",
              "      display:flex;\n",
              "      flex-wrap:wrap;\n",
              "      gap: 12px;\n",
              "    }\n",
              "\n",
              "    .colab-df-convert {\n",
              "      background-color: #E8F0FE;\n",
              "      border: none;\n",
              "      border-radius: 50%;\n",
              "      cursor: pointer;\n",
              "      display: none;\n",
              "      fill: #1967D2;\n",
              "      height: 32px;\n",
              "      padding: 0 0 0 0;\n",
              "      width: 32px;\n",
              "    }\n",
              "\n",
              "    .colab-df-convert:hover {\n",
              "      background-color: #E2EBFA;\n",
              "      box-shadow: 0px 1px 2px rgba(60, 64, 67, 0.3), 0px 1px 3px 1px rgba(60, 64, 67, 0.15);\n",
              "      fill: #174EA6;\n",
              "    }\n",
              "\n",
              "    [theme=dark] .colab-df-convert {\n",
              "      background-color: #3B4455;\n",
              "      fill: #D2E3FC;\n",
              "    }\n",
              "\n",
              "    [theme=dark] .colab-df-convert:hover {\n",
              "      background-color: #434B5C;\n",
              "      box-shadow: 0px 1px 3px 1px rgba(0, 0, 0, 0.15);\n",
              "      filter: drop-shadow(0px 1px 2px rgba(0, 0, 0, 0.3));\n",
              "      fill: #FFFFFF;\n",
              "    }\n",
              "  </style>\n",
              "\n",
              "      <script>\n",
              "        const buttonEl =\n",
              "          document.querySelector('#df-c4bf474b-8129-4e27-9f96-8b3723141d84 button.colab-df-convert');\n",
              "        buttonEl.style.display =\n",
              "          google.colab.kernel.accessAllowed ? 'block' : 'none';\n",
              "\n",
              "        async function convertToInteractive(key) {\n",
              "          const element = document.querySelector('#df-c4bf474b-8129-4e27-9f96-8b3723141d84');\n",
              "          const dataTable =\n",
              "            await google.colab.kernel.invokeFunction('convertToInteractive',\n",
              "                                                     [key], {});\n",
              "          if (!dataTable) return;\n",
              "\n",
              "          const docLinkHtml = 'Like what you see? Visit the ' +\n",
              "            '<a target=\"_blank\" href=https://colab.research.google.com/notebooks/data_table.ipynb>data table notebook</a>'\n",
              "            + ' to learn more about interactive tables.';\n",
              "          element.innerHTML = '';\n",
              "          dataTable['output_type'] = 'display_data';\n",
              "          await google.colab.output.renderOutput(dataTable, element);\n",
              "          const docLink = document.createElement('div');\n",
              "          docLink.innerHTML = docLinkHtml;\n",
              "          element.appendChild(docLink);\n",
              "        }\n",
              "      </script>\n",
              "    </div>\n",
              "  </div>\n",
              "  "
            ]
          },
          "metadata": {},
          "execution_count": 2
        }
      ]
    },
    {
      "cell_type": "code",
      "source": [
        "tot_come_GORDO = [0,0,0] # muito, medio, pouco\n",
        "tot_come_MAGRO = [0, 0, 0] # muito, medio, pouco\n",
        "\n",
        "tot_vegetariano_GORDO = [0, 0] # sim, nao\n",
        "tot_vegetariano_MAGRO = [0, 0] # sim, nao\n",
        "\n",
        "tot_idade_GORDO = [0, 0] # velho, jovem\n",
        "tot_idade_MAGRO = [0,0 ] # velho, jovem\n",
        "\n",
        "tot_diabetico_GORDO = [ 0, 0] # sim, nao\n",
        "tot_diabetico_MAGRO = [0, 0] # sim, nao\n",
        "\n",
        "tx_erro_come = 0\n",
        "tx_erro_vegetariano = 0\n",
        "tx_erro_idade = 0\n",
        "tx_erro_diabetico = 0\n",
        "\n",
        "regras_come = \"\"\n",
        "regras_vegetariano = \"\"\n",
        "regras_idade = \"\"\n",
        "regras_diabetico = \"\"\n",
        "\n",
        "tx_erro_menor = 9999\n",
        "tot_exemplos = 0"
      ],
      "metadata": {
        "id": "xGvo6hfOyWzU"
      },
      "execution_count": 3,
      "outputs": []
    },
    {
      "cell_type": "code",
      "source": [
        "linhas = dados.values\n",
        "linhas "
      ],
      "metadata": {
        "colab": {
          "base_uri": "https://localhost:8080/"
        },
        "id": "9vGspCeLz2CC",
        "outputId": "ebca5ebd-699b-4e20-c00a-b9c2b1bb6e3b"
      },
      "execution_count": 4,
      "outputs": [
        {
          "output_type": "execute_result",
          "data": {
            "text/plain": [
              "array([['pouco', 'sim', 'velho', 'sim', 'magro'],\n",
              "       ['medio', 'sim', 'velho', 'nao', 'magro'],\n",
              "       ['muito', 'nao', 'velho', 'sim', 'gordo'],\n",
              "       ['pouco', 'nao', 'velho', 'nao', 'magro'],\n",
              "       ['medio', 'nao', 'jovem', 'sim', 'gordo'],\n",
              "       ['pouco', 'sim', 'jovem', 'nao', 'magro'],\n",
              "       ['muito', 'nao', 'velho', 'nao', 'gordo'],\n",
              "       ['medio', 'nao', 'jovem', 'sim', 'gordo']], dtype=object)"
            ]
          },
          "metadata": {},
          "execution_count": 4
        }
      ]
    },
    {
      "cell_type": "code",
      "source": [
        "print(\"lendo a base de dados...\")\n",
        "tot_exemplos = 0\n",
        "for l in linhas:\n",
        "  tot_exemplos = tot_exemplos + 1\n",
        "  come = l[0]\n",
        "  vegetariano = l[1]\n",
        "  idade = l[2]\n",
        "  diabetico = l[3]\n",
        "  classe = l[4]\n",
        "\n",
        "  #para come\n",
        "\n",
        "  if come == \"muito\":\n",
        "    if classe == \"gordo\":\n",
        "      tot_come_GORDO[0] = tot_come_GORDO[0] + 1\n",
        "    else:\n",
        "      tot_come_MAGRO[0] = tot_come_MAGRO[0] + 1\n",
        "\n",
        "  if come == \"medio\":\n",
        "    if classe == \"gordo\":\n",
        "      tot_come_GORDO[1] = tot_come_GORDO[1] + 1\n",
        "    else:\n",
        "      tot_come_MAGRO[1] = tot_come_MAGRO[1] + 1\n",
        "\n",
        "  if come == \"pouco\":\n",
        "    if classe == \"gordo\":\n",
        "      tot_come_GORDO[2] = tot_come_GORDO[2] + 1\n",
        "    else:\n",
        "      tot_come_MAGRO[2] = tot_come_MAGRO[2] + 1 \n",
        "\n",
        "  # para vegetariano\n",
        "\n",
        "  if vegetariano == \"sim\":\n",
        "    if classe == \"gordo\":\n",
        "      tot_vegetariano_GORDO[0] = tot_vegetariano_GORDO[0] + 1\n",
        "    else:\n",
        "      tot_vegetariano_MAGRO[0] = tot_vegetariano_MAGRO[0] + 1\n",
        "\n",
        "  if vegetariano == \"nao\":\n",
        "    if classe == \"gordo\":\n",
        "      tot_vegetariano_GORDO[1] = tot_vegetariano_GORDO[1] + 1\n",
        "    else:\n",
        "      tot_vegetariano_MAGRO[1] = tot_vegetariano_MAGRO[1] + 1\n",
        "\n",
        "  # para idade\n",
        "\n",
        "  if idade == \"velho\":\n",
        "    if classe == \"gordo\":\n",
        "      tot_idade_GORDO[0] = tot_idade_GORDO[0] + 1\n",
        "    else:\n",
        "      tot_idade_MAGRO[0] = tot_idade_MAGRO[0] + 1\n",
        "\n",
        "  if idade == \"jovem\":\n",
        "    if classe == \"gordo\":\n",
        "      tot_idade_GORDO[1] = tot_idade_GORDO[1] + 1\n",
        "    else:\n",
        "      tot_idade_MAGRO[1] = tot_idade_MAGRO[1] + 1\n",
        "\n",
        "  #pra diabetico\n",
        "\n",
        "  if diabetico == \"sim\":\n",
        "    if classe == \"gordo\":\n",
        "      tot_diabetico_GORDO[0] = tot_diabetico_GORDO[0] + 1\n",
        "    else:\n",
        "      tot_diabetico_MAGRO[0] = tot_diabetico_MAGRO[0] + 1\n",
        "\n",
        "  if diabetico == \"nao\":\n",
        "    if classe == \"gordo\":\n",
        "      tot_diabetico_GORDO[1] = tot_diabetico_GORDO[1] + 1\n",
        "    else:\n",
        "      tot_diabetico_MAGRO[1] = tot_diabetico_MAGRO[1] + 1\n",
        "  \n",
        "print(\"O total de exemplos eh: \" + str(tot_exemplos))\n",
        "\n",
        "  "
      ],
      "metadata": {
        "colab": {
          "base_uri": "https://localhost:8080/"
        },
        "id": "5PXeJeHb0Fvl",
        "outputId": "1f8dd786-6e0e-4632-a1e6-686ebba478e6"
      },
      "execution_count": 5,
      "outputs": [
        {
          "output_type": "stream",
          "name": "stdout",
          "text": [
            "lendo a base de dados...\n",
            "O total de exemplos eh: 8\n"
          ]
        }
      ]
    },
    {
      "cell_type": "code",
      "source": [
        "#identificando as regras de cada instancia\n",
        "print(\"identificando as regras para o atributo COME ...\")\n",
        "\n",
        "if(tot_come_GORDO[0] > tot_come_MAGRO[0]):\n",
        "  print(\"Se muito, entao eh gordo\")\n",
        "  tx_erro_come = tx_erro_come + tot_come_MAGRO[0]\n",
        "  regras_come = regras_come + \"Se muito, entao eh gordo;\"\n",
        "\n",
        "else:\n",
        "    print(\"Se muito, entao eh magro\")\n",
        "    tx_erro_come = tx_erro_come + tot_come_GORDO[0]\n",
        "    regras_come = regras_come + \"Se muito, entao eh magro;\"\n",
        "\n",
        "if(tot_come_GORDO[1] > tot_come_MAGRO[1]):\n",
        "  print(\"Se medio, entao eh gordo\")\n",
        "  tx_erro_come = tx_erro_come + tot_come_MAGRO[1]\n",
        "  regras_come = regras_come + \"Se medio, entao eh gordo;\"\n",
        "\n",
        "else:\n",
        "    print(\"Se medio, entao eh magro\")\n",
        "    tx_erro_come = tx_erro_come + tot_come_GORDO[1]\n",
        "    regras_come = regras_come + \"Se medio, entao eh magro;\"\n",
        "\n",
        "if(tot_come_GORDO[2] > tot_come_MAGRO[2]):\n",
        "  print(\"Se pouco, entao eh gordo\")\n",
        "  tx_erro_come = tx_erro_come + tot_come_MAGRO[2]\n",
        "  regras_come = regras_come + \"Se pouco, entao eh gordo;\"\n",
        "\n",
        "else:\n",
        "    print(\"Se pouco, entao eh magro\")\n",
        "    tx_erro_come = tx_erro_come + tot_come_GORDO[2]\n",
        "    regras_come = regras_come + \"Se pouco, entao eh magro;\"\n",
        "\n",
        "print(\"Taxa de erro do atributo COME: \" + str(tx_erro_come/tot_exemplos))\n",
        "\n",
        "if(tx_erro_come < tx_erro_menor):\n",
        "  tx_erro_menor = tx_erro_come\n",
        "  conjunto_de_regras = \"come\"\n",
        "\n"
      ],
      "metadata": {
        "colab": {
          "base_uri": "https://localhost:8080/"
        },
        "id": "5gr9GH2P31p8",
        "outputId": "846648da-ad09-4174-f9c3-0fa0af7393af"
      },
      "execution_count": 6,
      "outputs": [
        {
          "output_type": "stream",
          "name": "stdout",
          "text": [
            "identificando as regras para o atributo COME ...\n",
            "Se muito, entao eh gordo\n",
            "Se medio, entao eh gordo\n",
            "Se pouco, entao eh magro\n",
            "Taxa de erro do atributo COME: 0.125\n"
          ]
        }
      ]
    },
    {
      "cell_type": "code",
      "source": [
        "#identificando as regras da instancia vegetariano\n",
        "print(\"identificando as regras para o atributo VEGETARIANO ...\")\n",
        "\n",
        "if(tot_vegetariano_GORDO[0] > tot_vegetariano_MAGRO[0]):\n",
        "  print(\"Se sim, entao eh gordo\")\n",
        "  tx_erro_vegetariano = tx_erro_vegetariano + tot_vegetariano_MAGRO[0]\n",
        "  regras_vegetariano = regras_vegetariano + \"Se sim, entao eh gordo;\"\n",
        "\n",
        "else:\n",
        "    print(\"Se sim, entao eh magro\")\n",
        "    tx_erro_vegetariano = tx_erro_vegetariano + tot_vegetariano_GORDO[0]\n",
        "    regras_vegetariano = regras_vegetariano + \"Se sim, entao eh magro;\"\n",
        "\n",
        "if(tot_vegetariano_GORDO[1] > tot_vegetariano_MAGRO[1]):\n",
        "  print(\"Se nao, entao eh gordo\")\n",
        "  tx_erro_vegetariano = tx_erro_vegetariano + tot_vegetariano_MAGRO[1]\n",
        "  regras_vegetariano = regras_vegetariano + \"Se nao, entao eh gordo;\"\n",
        "\n",
        "else:\n",
        "    print(\"Se nao, entao eh magro\")\n",
        "    tx_erro_vegetariano = tx_erro_vegetariano + tot_vegetariano_GORDO[1]\n",
        "    regras_vegetariano = regras_vegetariano + \"Se nao, entao eh magro;\"\n",
        "\n",
        "print(\"Taxa de erro do atributo vegetariano: \" + str(tx_erro_vegetariano/tot_exemplos))\n",
        "\n",
        "if(tx_erro_vegetariano < tx_erro_menor):\n",
        "  tx_erro_menor = tx_erro_vegetariano\n",
        "  conjunto_de_regras = \"vegetariano\""
      ],
      "metadata": {
        "colab": {
          "base_uri": "https://localhost:8080/"
        },
        "id": "3kBmoxfN6ZDS",
        "outputId": "394a68d6-23ed-482e-a11d-a893a3b4ff5b"
      },
      "execution_count": 7,
      "outputs": [
        {
          "output_type": "stream",
          "name": "stdout",
          "text": [
            "identificando as regras para o atributo VEGETARIANO ...\n",
            "Se sim, entao eh magro\n",
            "Se nao, entao eh gordo\n",
            "Taxa de erro do atributo vegetariano: 0.125\n"
          ]
        }
      ]
    },
    {
      "cell_type": "code",
      "source": [
        "#identificando as regras da instancia idade\n",
        "print(\"identificando as regras para o atributo IDADE ...\")\n",
        "\n",
        "if(tot_idade_GORDO[0] > tot_idade_MAGRO[0]):\n",
        "  print(\"Se velho, entao eh gordo\")\n",
        "  tx_erro_idade = tx_erro_idade + tot_idade_MAGRO[0]\n",
        "  regras_idade = regras_idade + \"Se velho, entao eh gordo;\"\n",
        "\n",
        "else:\n",
        "    print(\"Se velho, entao eh magro\")\n",
        "    tx_erro_idade = tx_erro_idade + tot_idade_GORDO[0]\n",
        "    regras_idade = regras_idade + \"Se velho, entao eh magro;\"\n",
        "\n",
        "if(tot_idade_GORDO[1] > tot_idade_MAGRO[1]):\n",
        "  print(\"Se jovem, entao eh gordo\")\n",
        "  tx_erro_idade = tx_erro_idade + tot_idade_MAGRO[1]\n",
        "  regras_idade = regras_idade + \"Se jovem, entao eh gordo;\"\n",
        "\n",
        "else:\n",
        "    print(\"Se jovem, entao eh magro\")\n",
        "    tx_erro_idade = tx_erro_idade + tot_idade_GORDO[1]\n",
        "    regras_idade = regras_idade + \"Se jovem, entao eh magro;\"\n",
        "\n",
        "print(\"Taxa de erro do atributo idade: \" + str(tx_erro_idade/tot_exemplos))\n",
        "\n",
        "if(tx_erro_idade < tx_erro_menor):\n",
        "  tx_erro_menor = tx_erro_idade\n",
        "  conjunto_de_regras = \"idade\""
      ],
      "metadata": {
        "colab": {
          "base_uri": "https://localhost:8080/"
        },
        "id": "hh42M4zL7-Kv",
        "outputId": "61d8c821-11c2-4e3b-a3ca-711b6ada710d"
      },
      "execution_count": 8,
      "outputs": [
        {
          "output_type": "stream",
          "name": "stdout",
          "text": [
            "identificando as regras para o atributo IDADE ...\n",
            "Se velho, entao eh magro\n",
            "Se jovem, entao eh gordo\n",
            "Taxa de erro do atributo idade: 0.375\n"
          ]
        }
      ]
    },
    {
      "cell_type": "code",
      "source": [
        "#identificando as regras da instancia diabetico\n",
        "print(\"identificando as regras para o atributo DIABETICO ...\")\n",
        "\n",
        "if(tot_diabetico_GORDO[0] > tot_diabetico_MAGRO[0]):\n",
        "  print(\"Se sim, entao eh gordo\")\n",
        "  tx_erro_diabetico = tx_erro_diabetico + tot_diabetico_MAGRO[0]\n",
        "  regras_diabetico = regras_diabetico + \"Se sim, entao eh gordo;\"\n",
        "\n",
        "else:\n",
        "    print(\"Se sim, entao eh magro\")\n",
        "    tx_erro_diabetico = tx_erro_diabetico + tot_diabetico_GORDO[0]\n",
        "    regras_diabetico = regras_diabetico + \"Se sim, entao eh magro;\"\n",
        "\n",
        "if(tot_diabetico_GORDO[1] > tot_diabetico_MAGRO[1]):\n",
        "  print(\"Se nao, entao eh gordo\")\n",
        "  tx_erro_diabetico = tx_erro_diabetico + tot_diabetico_MAGRO[1]\n",
        "  regras_diabetico = regras_diabetico + \"Se nao, entao eh gordo;\"\n",
        "\n",
        "else:\n",
        "    print(\"Se nao, entao eh magro\")\n",
        "    tx_erro_diabetico = tx_erro_diabetico + tot_diabetico_GORDO[1]\n",
        "    regras_diabetico = regras_diabetico + \"Se nao, entao eh magro;\"\n",
        "\n",
        "print(\"Taxa de erro do atributo diabetico: \" + str(tx_erro_diabetico/tot_exemplos))\n",
        "\n",
        "if(tx_erro_diabetico < tx_erro_menor):\n",
        "  tx_erro_menor = tx_erro_diabetico\n",
        "  conjunto_de_regras = \"diabetico\""
      ],
      "metadata": {
        "colab": {
          "base_uri": "https://localhost:8080/"
        },
        "id": "XiROjXh79g6d",
        "outputId": "30ca6692-376c-4d50-9b52-5f90ce37bf1d"
      },
      "execution_count": 9,
      "outputs": [
        {
          "output_type": "stream",
          "name": "stdout",
          "text": [
            "identificando as regras para o atributo DIABETICO ...\n",
            "Se sim, entao eh gordo\n",
            "Se nao, entao eh magro\n",
            "Taxa de erro do atributo diabetico: 0.25\n"
          ]
        }
      ]
    },
    {
      "cell_type": "code",
      "source": [
        "print(\"Buscando a menor taxa de erro...\")\n",
        "print(\"A menor taxa de erro eh: \" + str(tx_erro_menor))\n",
        "print(\"O conjunto com a menor taxa de erro eh: \" + conjunto_de_regras)\n",
        "\n",
        "if conjunto_de_regras == \"come\":\n",
        "  print(regras_come)\n",
        "\n",
        "if conjunto_de_regras == \"vegetariano\":\n",
        "  print(regras_vegetariano)\n",
        "\n",
        "if conjunto_de_regras == \"idade\":\n",
        "  print(regras_idade)\n",
        "\n",
        "if conjunto_de_regras == \"diabetico\":\n",
        "  print(regras_diabetico)\n",
        "\n",
        "\n"
      ],
      "metadata": {
        "colab": {
          "base_uri": "https://localhost:8080/"
        },
        "id": "Ksdo_K7u-w5o",
        "outputId": "fcb03293-2d02-4ca5-b491-ab498c5a15fe"
      },
      "execution_count": 11,
      "outputs": [
        {
          "output_type": "stream",
          "name": "stdout",
          "text": [
            "Buscando a menor taxa de erro...\n",
            "A menor taxa de erro eh: 1\n",
            "O conjunto com a menor taxa de erro eh: come\n",
            "Se muito, entao eh gordo;Se medio, entao eh gordo;Se pouco, entao eh magro;\n"
          ]
        }
      ]
    }
  ]
}
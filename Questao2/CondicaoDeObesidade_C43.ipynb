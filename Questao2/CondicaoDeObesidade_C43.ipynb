{
  "nbformat": 4,
  "nbformat_minor": 0,
  "metadata": {
    "colab": {
      "provenance": [],
      "authorship_tag": "ABX9TyP5LYbmTnaqTTZVh/TKMBPy",
      "include_colab_link": true
    },
    "kernelspec": {
      "name": "python3",
      "display_name": "Python 3"
    },
    "language_info": {
      "name": "python"
    }
  },
  "cells": [
    {
      "cell_type": "markdown",
      "metadata": {
        "id": "view-in-github",
        "colab_type": "text"
      },
      "source": [
        "<a href=\"https://colab.research.google.com/github/PedroMesquitaIsidoro/ArvoreDeDecisao-IA/blob/main/Questao2/CondicaoDeObesidade_C43.ipynb\" target=\"_parent\"><img src=\"https://colab.research.google.com/assets/colab-badge.svg\" alt=\"Open In Colab\"/></a>"
      ]
    },
    {
      "cell_type": "code",
      "execution_count": 22,
      "metadata": {
        "colab": {
          "base_uri": "https://localhost:8080/",
          "height": 300
        },
        "id": "VCi-WqiiYYMP",
        "outputId": "deeef92b-49f6-429f-befa-62b10f76fb5e"
      },
      "outputs": [
        {
          "output_type": "execute_result",
          "data": {
            "text/plain": [
              "    Come Vegetariano  Idade Diabetico Classe\n",
              "0  pouco         sim  velho       sim  magro\n",
              "1  medio         sim  velho       nao  magro\n",
              "2  muito         nao  velho       sim  gordo\n",
              "3  pouco         nao  velho       nao  magro\n",
              "4  medio         nao  jovem       sim  gordo\n",
              "5  pouco         sim  jovem       nao  magro\n",
              "6  muito         nao  velho       nao  gordo\n",
              "7  medio         nao  jovem       sim  gordo"
            ],
            "text/html": [
              "\n",
              "  <div id=\"df-84c691db-058c-46b7-9c1a-7f3bc2ae7097\">\n",
              "    <div class=\"colab-df-container\">\n",
              "      <div>\n",
              "<style scoped>\n",
              "    .dataframe tbody tr th:only-of-type {\n",
              "        vertical-align: middle;\n",
              "    }\n",
              "\n",
              "    .dataframe tbody tr th {\n",
              "        vertical-align: top;\n",
              "    }\n",
              "\n",
              "    .dataframe thead th {\n",
              "        text-align: right;\n",
              "    }\n",
              "</style>\n",
              "<table border=\"1\" class=\"dataframe\">\n",
              "  <thead>\n",
              "    <tr style=\"text-align: right;\">\n",
              "      <th></th>\n",
              "      <th>Come</th>\n",
              "      <th>Vegetariano</th>\n",
              "      <th>Idade</th>\n",
              "      <th>Diabetico</th>\n",
              "      <th>Classe</th>\n",
              "    </tr>\n",
              "  </thead>\n",
              "  <tbody>\n",
              "    <tr>\n",
              "      <th>0</th>\n",
              "      <td>pouco</td>\n",
              "      <td>sim</td>\n",
              "      <td>velho</td>\n",
              "      <td>sim</td>\n",
              "      <td>magro</td>\n",
              "    </tr>\n",
              "    <tr>\n",
              "      <th>1</th>\n",
              "      <td>medio</td>\n",
              "      <td>sim</td>\n",
              "      <td>velho</td>\n",
              "      <td>nao</td>\n",
              "      <td>magro</td>\n",
              "    </tr>\n",
              "    <tr>\n",
              "      <th>2</th>\n",
              "      <td>muito</td>\n",
              "      <td>nao</td>\n",
              "      <td>velho</td>\n",
              "      <td>sim</td>\n",
              "      <td>gordo</td>\n",
              "    </tr>\n",
              "    <tr>\n",
              "      <th>3</th>\n",
              "      <td>pouco</td>\n",
              "      <td>nao</td>\n",
              "      <td>velho</td>\n",
              "      <td>nao</td>\n",
              "      <td>magro</td>\n",
              "    </tr>\n",
              "    <tr>\n",
              "      <th>4</th>\n",
              "      <td>medio</td>\n",
              "      <td>nao</td>\n",
              "      <td>jovem</td>\n",
              "      <td>sim</td>\n",
              "      <td>gordo</td>\n",
              "    </tr>\n",
              "    <tr>\n",
              "      <th>5</th>\n",
              "      <td>pouco</td>\n",
              "      <td>sim</td>\n",
              "      <td>jovem</td>\n",
              "      <td>nao</td>\n",
              "      <td>magro</td>\n",
              "    </tr>\n",
              "    <tr>\n",
              "      <th>6</th>\n",
              "      <td>muito</td>\n",
              "      <td>nao</td>\n",
              "      <td>velho</td>\n",
              "      <td>nao</td>\n",
              "      <td>gordo</td>\n",
              "    </tr>\n",
              "    <tr>\n",
              "      <th>7</th>\n",
              "      <td>medio</td>\n",
              "      <td>nao</td>\n",
              "      <td>jovem</td>\n",
              "      <td>sim</td>\n",
              "      <td>gordo</td>\n",
              "    </tr>\n",
              "  </tbody>\n",
              "</table>\n",
              "</div>\n",
              "      <button class=\"colab-df-convert\" onclick=\"convertToInteractive('df-84c691db-058c-46b7-9c1a-7f3bc2ae7097')\"\n",
              "              title=\"Convert this dataframe to an interactive table.\"\n",
              "              style=\"display:none;\">\n",
              "        \n",
              "  <svg xmlns=\"http://www.w3.org/2000/svg\" height=\"24px\"viewBox=\"0 0 24 24\"\n",
              "       width=\"24px\">\n",
              "    <path d=\"M0 0h24v24H0V0z\" fill=\"none\"/>\n",
              "    <path d=\"M18.56 5.44l.94 2.06.94-2.06 2.06-.94-2.06-.94-.94-2.06-.94 2.06-2.06.94zm-11 1L8.5 8.5l.94-2.06 2.06-.94-2.06-.94L8.5 2.5l-.94 2.06-2.06.94zm10 10l.94 2.06.94-2.06 2.06-.94-2.06-.94-.94-2.06-.94 2.06-2.06.94z\"/><path d=\"M17.41 7.96l-1.37-1.37c-.4-.4-.92-.59-1.43-.59-.52 0-1.04.2-1.43.59L10.3 9.45l-7.72 7.72c-.78.78-.78 2.05 0 2.83L4 21.41c.39.39.9.59 1.41.59.51 0 1.02-.2 1.41-.59l7.78-7.78 2.81-2.81c.8-.78.8-2.07 0-2.86zM5.41 20L4 18.59l7.72-7.72 1.47 1.35L5.41 20z\"/>\n",
              "  </svg>\n",
              "      </button>\n",
              "      \n",
              "  <style>\n",
              "    .colab-df-container {\n",
              "      display:flex;\n",
              "      flex-wrap:wrap;\n",
              "      gap: 12px;\n",
              "    }\n",
              "\n",
              "    .colab-df-convert {\n",
              "      background-color: #E8F0FE;\n",
              "      border: none;\n",
              "      border-radius: 50%;\n",
              "      cursor: pointer;\n",
              "      display: none;\n",
              "      fill: #1967D2;\n",
              "      height: 32px;\n",
              "      padding: 0 0 0 0;\n",
              "      width: 32px;\n",
              "    }\n",
              "\n",
              "    .colab-df-convert:hover {\n",
              "      background-color: #E2EBFA;\n",
              "      box-shadow: 0px 1px 2px rgba(60, 64, 67, 0.3), 0px 1px 3px 1px rgba(60, 64, 67, 0.15);\n",
              "      fill: #174EA6;\n",
              "    }\n",
              "\n",
              "    [theme=dark] .colab-df-convert {\n",
              "      background-color: #3B4455;\n",
              "      fill: #D2E3FC;\n",
              "    }\n",
              "\n",
              "    [theme=dark] .colab-df-convert:hover {\n",
              "      background-color: #434B5C;\n",
              "      box-shadow: 0px 1px 3px 1px rgba(0, 0, 0, 0.15);\n",
              "      filter: drop-shadow(0px 1px 2px rgba(0, 0, 0, 0.3));\n",
              "      fill: #FFFFFF;\n",
              "    }\n",
              "  </style>\n",
              "\n",
              "      <script>\n",
              "        const buttonEl =\n",
              "          document.querySelector('#df-84c691db-058c-46b7-9c1a-7f3bc2ae7097 button.colab-df-convert');\n",
              "        buttonEl.style.display =\n",
              "          google.colab.kernel.accessAllowed ? 'block' : 'none';\n",
              "\n",
              "        async function convertToInteractive(key) {\n",
              "          const element = document.querySelector('#df-84c691db-058c-46b7-9c1a-7f3bc2ae7097');\n",
              "          const dataTable =\n",
              "            await google.colab.kernel.invokeFunction('convertToInteractive',\n",
              "                                                     [key], {});\n",
              "          if (!dataTable) return;\n",
              "\n",
              "          const docLinkHtml = 'Like what you see? Visit the ' +\n",
              "            '<a target=\"_blank\" href=https://colab.research.google.com/notebooks/data_table.ipynb>data table notebook</a>'\n",
              "            + ' to learn more about interactive tables.';\n",
              "          element.innerHTML = '';\n",
              "          dataTable['output_type'] = 'display_data';\n",
              "          await google.colab.output.renderOutput(dataTable, element);\n",
              "          const docLink = document.createElement('div');\n",
              "          docLink.innerHTML = docLinkHtml;\n",
              "          element.appendChild(docLink);\n",
              "        }\n",
              "      </script>\n",
              "    </div>\n",
              "  </div>\n",
              "  "
            ]
          },
          "metadata": {},
          "execution_count": 22
        }
      ],
      "source": [
        "#algoritimo C4.3\n",
        "import pandas as pd # para trabalhar com a planilha\n",
        "import numpy as np # para calculos \n",
        "base_risco_obesidade = pd.read_csv('Condicao_de_obesidade.csv')\n",
        "base_risco_obesidade"
      ]
    },
    {
      "cell_type": "code",
      "source": [
        "#Pre-processamento dos dados\n",
        "x_risco_obesidade = base_risco_obesidade.iloc[:, 0:4].values\n",
        "x_risco_obesidade #mostra todos os atributos com excessao da clase"
      ],
      "metadata": {
        "colab": {
          "base_uri": "https://localhost:8080/"
        },
        "id": "6XgwXN-pY67u",
        "outputId": "d603de5b-831c-4475-e223-263d2b2c1182"
      },
      "execution_count": 23,
      "outputs": [
        {
          "output_type": "execute_result",
          "data": {
            "text/plain": [
              "array([['pouco', 'sim', 'velho', 'sim'],\n",
              "       ['medio', 'sim', 'velho', 'nao'],\n",
              "       ['muito', 'nao', 'velho', 'sim'],\n",
              "       ['pouco', 'nao', 'velho', 'nao'],\n",
              "       ['medio', 'nao', 'jovem', 'sim'],\n",
              "       ['pouco', 'sim', 'jovem', 'nao'],\n",
              "       ['muito', 'nao', 'velho', 'nao'],\n",
              "       ['medio', 'nao', 'jovem', 'sim']], dtype=object)"
            ]
          },
          "metadata": {},
          "execution_count": 23
        }
      ]
    },
    {
      "cell_type": "code",
      "source": [
        "#Pre-processamento dos dados\n",
        "y_risco_obesidade = base_risco_obesidade.iloc[:, 4].values\n",
        "y_risco_obesidade #mostrar classe"
      ],
      "metadata": {
        "colab": {
          "base_uri": "https://localhost:8080/"
        },
        "id": "VukCPD7EY-Is",
        "outputId": "e07d3837-ab1e-460c-806e-7722f6541b19"
      },
      "execution_count": 24,
      "outputs": [
        {
          "output_type": "execute_result",
          "data": {
            "text/plain": [
              "array(['magro', 'magro', 'gordo', 'magro', 'gordo', 'magro', 'gordo',\n",
              "       'gordo'], dtype=object)"
            ]
          },
          "metadata": {},
          "execution_count": 24
        }
      ]
    },
    {
      "cell_type": "code",
      "source": [
        "#Pre-processamento dos dados\n",
        "from sklearn.preprocessing import LabelEncoder\n",
        "label_encoder_come = LabelEncoder()\n",
        "label_encoder_vegetariano = LabelEncoder()\n",
        "label_encoder_idade = LabelEncoder()\n",
        "label_encoder_diabetico = LabelEncoder()"
      ],
      "metadata": {
        "id": "tyC7NoBIZAlc"
      },
      "execution_count": 25,
      "outputs": []
    },
    {
      "cell_type": "code",
      "source": [
        "#Pre-processamento dos dados\n",
        "x_risco_obesidade[:, 0] = label_encoder_come.fit_transform(x_risco_obesidade[:, 0])\n",
        "x_risco_obesidade[:, 1] = label_encoder_vegetariano.fit_transform(x_risco_obesidade[:, 1])\n",
        "x_risco_obesidade[:, 2] = label_encoder_idade.fit_transform(x_risco_obesidade[:, 2])\n",
        "x_risco_obesidade[:, 3] = label_encoder_diabetico.fit_transform(x_risco_obesidade[:, 3])"
      ],
      "metadata": {
        "id": "krwS6G1vZC1t"
      },
      "execution_count": 26,
      "outputs": []
    },
    {
      "cell_type": "code",
      "source": [
        "x_risco_obesidade"
      ],
      "metadata": {
        "colab": {
          "base_uri": "https://localhost:8080/"
        },
        "id": "xpmIq0Q8ZFn8",
        "outputId": "d6755d68-b6f7-49cc-d61a-d7f406d0a9ec"
      },
      "execution_count": 27,
      "outputs": [
        {
          "output_type": "execute_result",
          "data": {
            "text/plain": [
              "array([[2, 1, 1, 1],\n",
              "       [0, 1, 1, 0],\n",
              "       [1, 0, 1, 1],\n",
              "       [2, 0, 1, 0],\n",
              "       [0, 0, 0, 1],\n",
              "       [2, 1, 0, 0],\n",
              "       [1, 0, 1, 0],\n",
              "       [0, 0, 0, 1]], dtype=object)"
            ]
          },
          "metadata": {},
          "execution_count": 27
        }
      ]
    },
    {
      "cell_type": "code",
      "source": [
        "# salvando os dados pre-processados\n",
        "import pickle\n",
        "with open('risco_obesidade.pkl', 'wb') as f:\n",
        "  pickle.dump([x_risco_obesidade, y_risco_obesidade], f)"
      ],
      "metadata": {
        "id": "D4xu_11QZIJc"
      },
      "execution_count": 28,
      "outputs": []
    },
    {
      "cell_type": "code",
      "source": [
        "from sklearn.tree import DecisionTreeClassifier"
      ],
      "metadata": {
        "id": "PM7N0QVbZKS9"
      },
      "execution_count": 29,
      "outputs": []
    },
    {
      "cell_type": "code",
      "source": [
        "import pickle\n",
        "with open('risco_obesidade.pkl', 'rb') as f:  # abrindo o arquivo já pre-processado\n",
        "  x_risco_obesidade, y_risco_obesidade = pickle.load(f)\n"
      ],
      "metadata": {
        "id": "pvxzBl2_ZMZO"
      },
      "execution_count": 30,
      "outputs": []
    },
    {
      "cell_type": "code",
      "source": [
        "x_risco_obesidade"
      ],
      "metadata": {
        "colab": {
          "base_uri": "https://localhost:8080/"
        },
        "id": "M-UOkfHcZNTW",
        "outputId": "5a572445-e57c-47ed-9f57-ab4ab867daa1"
      },
      "execution_count": 31,
      "outputs": [
        {
          "output_type": "execute_result",
          "data": {
            "text/plain": [
              "array([[2, 1, 1, 1],\n",
              "       [0, 1, 1, 0],\n",
              "       [1, 0, 1, 1],\n",
              "       [2, 0, 1, 0],\n",
              "       [0, 0, 0, 1],\n",
              "       [2, 1, 0, 0],\n",
              "       [1, 0, 1, 0],\n",
              "       [0, 0, 0, 1]], dtype=object)"
            ]
          },
          "metadata": {},
          "execution_count": 31
        }
      ]
    },
    {
      "cell_type": "code",
      "source": [
        "y_risco_obesidade"
      ],
      "metadata": {
        "colab": {
          "base_uri": "https://localhost:8080/"
        },
        "id": "7x4O0tfZZPdv",
        "outputId": "e16f378c-48d3-4609-a73d-b47ce4502f96"
      },
      "execution_count": 32,
      "outputs": [
        {
          "output_type": "execute_result",
          "data": {
            "text/plain": [
              "array(['magro', 'magro', 'gordo', 'magro', 'gordo', 'magro', 'gordo',\n",
              "       'gordo'], dtype=object)"
            ]
          },
          "metadata": {},
          "execution_count": 32
        }
      ]
    },
    {
      "cell_type": "code",
      "source": [
        "from sklearn.model_selection import train_test_split\n",
        "x_train, x_test, y_train, y_test = train_test_split(x_risco_obesidade, y_risco_obesidade, test_size = 0.25, random_state = 0)"
      ],
      "metadata": {
        "id": "yjU02AnOZt4Q"
      },
      "execution_count": 33,
      "outputs": []
    },
    {
      "cell_type": "code",
      "source": [
        "x_risco_obesidade\n"
      ],
      "metadata": {
        "colab": {
          "base_uri": "https://localhost:8080/"
        },
        "id": "0AxA407NZ6O9",
        "outputId": "aae2f67f-5689-43a9-e84f-ccf3f6a5c116"
      },
      "execution_count": 34,
      "outputs": [
        {
          "output_type": "execute_result",
          "data": {
            "text/plain": [
              "array([[2, 1, 1, 1],\n",
              "       [0, 1, 1, 0],\n",
              "       [1, 0, 1, 1],\n",
              "       [2, 0, 1, 0],\n",
              "       [0, 0, 0, 1],\n",
              "       [2, 1, 0, 0],\n",
              "       [1, 0, 1, 0],\n",
              "       [0, 0, 0, 1]], dtype=object)"
            ]
          },
          "metadata": {},
          "execution_count": 34
        }
      ]
    },
    {
      "cell_type": "code",
      "source": [
        "x_train"
      ],
      "metadata": {
        "colab": {
          "base_uri": "https://localhost:8080/"
        },
        "id": "epamjBhzaDS_",
        "outputId": "9b1f2a7b-8778-4030-d14b-7e39c6faff99"
      },
      "execution_count": 35,
      "outputs": [
        {
          "output_type": "execute_result",
          "data": {
            "text/plain": [
              "array([[0, 1, 1, 0],\n",
              "       [0, 0, 0, 1],\n",
              "       [2, 0, 1, 0],\n",
              "       [2, 1, 1, 1],\n",
              "       [2, 1, 0, 0],\n",
              "       [0, 0, 0, 1]], dtype=object)"
            ]
          },
          "metadata": {},
          "execution_count": 35
        }
      ]
    },
    {
      "cell_type": "code",
      "source": [
        "from sklearn import tree\n",
        "model = tree.DecisionTreeClassifier(random_state=0, max_depth=None, min_samples_split=2, min_samples_leaf=1, min_weight_fraction_leaf=0, max_leaf_nodes=None, min_impurity_decrease=0)"
      ],
      "metadata": {
        "id": "754cL6u4aLwv"
      },
      "execution_count": 36,
      "outputs": []
    },
    {
      "cell_type": "code",
      "source": [
        "clf = model.fit(x_train, y_train)"
      ],
      "metadata": {
        "id": "x0UwKlQaaRIX"
      },
      "execution_count": 37,
      "outputs": []
    },
    {
      "cell_type": "code",
      "source": [
        "from sklearn import tree\n",
        "import matplotlib.pyplot as plt\n",
        "\n",
        "previsores = ['Come', 'Vegetariano', 'Idade', 'Diabetico']\n",
        "figura, eixos = plt.subplots(nrows = 1, ncols =1, figsize=(10,10))\n",
        "tree.plot_tree(clf, feature_names=previsores, class_names = clf.classes_, filled= True)"
      ],
      "metadata": {
        "colab": {
          "base_uri": "https://localhost:8080/",
          "height": 667
        },
        "id": "iFHnD_EBaYbG",
        "outputId": "d23f3912-a15d-49a4-b847-582e768841ce"
      },
      "execution_count": 38,
      "outputs": [
        {
          "output_type": "execute_result",
          "data": {
            "text/plain": [
              "[Text(0.6, 0.8333333333333334, 'Vegetariano <= 0.5\\ngini = 0.444\\nsamples = 6\\nvalue = [2, 4]\\nclass = magro'),\n",
              " Text(0.4, 0.5, 'Come <= 1.0\\ngini = 0.444\\nsamples = 3\\nvalue = [2, 1]\\nclass = gordo'),\n",
              " Text(0.2, 0.16666666666666666, 'gini = 0.0\\nsamples = 2\\nvalue = [2, 0]\\nclass = gordo'),\n",
              " Text(0.6, 0.16666666666666666, 'gini = 0.0\\nsamples = 1\\nvalue = [0, 1]\\nclass = magro'),\n",
              " Text(0.8, 0.5, 'gini = 0.0\\nsamples = 3\\nvalue = [0, 3]\\nclass = magro')]"
            ]
          },
          "metadata": {},
          "execution_count": 38
        },
        {
          "output_type": "display_data",
          "data": {
            "text/plain": [
              "<Figure size 720x720 with 1 Axes>"
            ],
            "image/png": "[encoded data removed]"
          },
          "metadata": {
            "needs_background": "light"
          }
        }
      ]
    },
    {
      "cell_type": "code",
      "source": [
        "y_pred = clf.predict(x_test)\n"
      ],
      "metadata": {
        "id": "21_EITGkaqZH"
      },
      "execution_count": 39,
      "outputs": []
    },
    {
      "cell_type": "code",
      "source": [
        "from sklearn.metrics import classification_report\n",
        "from sklearn.metrics import accuracy_score\n",
        "# validação\n",
        "akurasi = classification_report(y_test, y_pred)\n",
        "print('Akurasi:', akurasi)"
      ],
      "metadata": {
        "colab": {
          "base_uri": "https://localhost:8080/"
        },
        "id": "Nz6SndFNastW",
        "outputId": "81e0a7fc-2e18-4228-ed83-5b6eb903bfbf"
      },
      "execution_count": 40,
      "outputs": [
        {
          "output_type": "stream",
          "name": "stdout",
          "text": [
            "Akurasi:               precision    recall  f1-score   support\n",
            "\n",
            "       gordo       1.00      1.00      1.00         2\n",
            "\n",
            "    accuracy                           1.00         2\n",
            "   macro avg       1.00      1.00      1.00         2\n",
            "weighted avg       1.00      1.00      1.00         2\n",
            "\n"
          ]
        }
      ]
    },
    {
      "cell_type": "code",
      "source": [
        "akurasi = accuracy_score(y_test, y_pred)\n",
        "print('%d porcento' %(akurasi*100))"
      ],
      "metadata": {
        "colab": {
          "base_uri": "https://localhost:8080/"
        },
        "id": "zfEnXTBSaxCM",
        "outputId": "bcf5d35d-953b-4c8c-fcf7-14c4baac2429"
      },
      "execution_count": 41,
      "outputs": [
        {
          "output_type": "stream",
          "name": "stdout",
          "text": [
            "100 porcento\n"
          ]
        }
      ]
    },
    {
      "cell_type": "code",
      "source": [
        "#espaço para realizar testes:\n",
        "#Entradas em numeros para as instancias:\n",
        "#come\n",
        "# 0 ->  medio\n",
        "# 1 ->  muito\n",
        "# 2 ->  pouco\n",
        "\n",
        "\n",
        "#Pra vegetariano\n",
        "# 0 ->  nao\n",
        "# 1 ->  sim\n",
        "\n",
        "#Pra idade\n",
        "# 0 ->  jovem\n",
        "# 1 ->  velho\n",
        "\n",
        "\n",
        "#Pra diabetico\n",
        "# 0 ->  nao\n",
        "# 1 ->  sim\n",
        "\n",
        "#exemplo para [medio, sim, velho, sim]\n",
        "previsores= clf.predict([[0,1,1, 1]])\n",
        "previsores"
      ],
      "metadata": {
        "colab": {
          "base_uri": "https://localhost:8080/"
        },
        "id": "U74BWA9jbTg1",
        "outputId": "5d9122a6-cbe4-4dae-9b34-722f06f7b957"
      },
      "execution_count": 46,
      "outputs": [
        {
          "output_type": "execute_result",
          "data": {
            "text/plain": [
              "array(['magro'], dtype=object)"
            ]
          },
          "metadata": {},
          "execution_count": 46
        }
      ]
    }
  ]
}
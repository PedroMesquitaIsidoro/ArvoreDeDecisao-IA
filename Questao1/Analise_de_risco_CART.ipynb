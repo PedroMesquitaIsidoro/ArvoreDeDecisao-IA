{
  "nbformat": 4,
  "nbformat_minor": 0,
  "metadata": {
    "colab": {
      "provenance": [],
      "authorship_tag": "ABX9TyPcDdC2screL5EuKNqQjajK",
      "include_colab_link": true
    },
    "kernelspec": {
      "name": "python3",
      "display_name": "Python 3"
    },
    "language_info": {
      "name": "python"
    }
  },
  "cells": [
    {
      "cell_type": "markdown",
      "metadata": {
        "id": "view-in-github",
        "colab_type": "text"
      },
      "source": [
        "<a href=\"https://colab.research.google.com/github/PedroMesquitaIsidoro/ArvoreDeDecisao-IA/blob/main/Questao1/Analise_de_risco_CART.ipynb\" target=\"_parent\"><img src=\"https://colab.research.google.com/assets/colab-badge.svg\" alt=\"Open In Colab\"/></a>"
      ]
    },
    {
      "cell_type": "code",
      "execution_count": 3,
      "metadata": {
        "id": "2owHknBYw6YD"
      },
      "outputs": [],
      "source": [
        "#Decision tree -  CART \n",
        "\n",
        "import pandas as pd # for data manipulation\n",
        "import numpy as np # for data manipulation\n",
        "\n",
        "from sklearn.model_selection import train_test_split # for splitting the data into train and test samples\n",
        "from sklearn.metrics import classification_report # for model evaluation metrics\n",
        "from sklearn import tree # for decision tree models\n",
        "\n",
        "import plotly.express as px  # for data visualization\n",
        "import plotly.graph_objects as go # for data visualization\n",
        "import graphviz # for plotting decision tree graphs"
      ]
    },
    {
      "cell_type": "code",
      "source": [
        "# Read in the weather data csv\n",
        "base_risco_credito=pd.read_csv('RiscoDeCredito.csv', encoding='utf-8')\n",
        "base_risco_credito"
      ],
      "metadata": {
        "colab": {
          "base_uri": "https://localhost:8080/",
          "height": 488
        },
        "id": "vmHF7CEoxK7J",
        "outputId": "70dc634e-5be5-4b8a-c574-8959c5069d2e"
      },
      "execution_count": 4,
      "outputs": [
        {
          "output_type": "execute_result",
          "data": {
            "text/plain": [
              "   Historia de Credito Divida  Garantia     Renda     Risco\n",
              "0                 Ruim   Alta   Nenhuma      0_15      Alto\n",
              "1         Desconhecida   Alta   Nenhuma     15_35      Alto\n",
              "2         Desconhecida  Baixa   Nenhuma     15_35  Moderado\n",
              "3         Desconhecida  Baixa   Nenhuma  acima_35      Alto\n",
              "4         Desconhecida  Baixa   Nenhuma  acima_35     Baixo\n",
              "5         Desconhecida  Baixa  Adequada  acima_35     Baixo\n",
              "6                 Ruim  Baixa   Nenhuma      0_15      Alto\n",
              "7                 Ruim  Baixa  Adequada  acima_35  Moderado\n",
              "8                  Boa  Baixa   Nenhuma  acima_35     Baixo\n",
              "9                  Boa   Alta  Adequada  acima_35     Baixo\n",
              "10                 Boa   Alta   Nenhuma      0_15      Alto\n",
              "11                 Boa   Alta   Nenhuma     15_35  Moderado\n",
              "12                 Boa   Alta   Nenhuma  acima_35     Baixo\n",
              "13                Ruim   Alta   Nenhuma     15_35      Alto"
            ],
            "text/html": [
              "\n",
              "  <div id=\"df-9becada1-a05a-48f1-82f1-a8a18d04f02c\">\n",
              "    <div class=\"colab-df-container\">\n",
              "      <div>\n",
              "<style scoped>\n",
              "    .dataframe tbody tr th:only-of-type {\n",
              "        vertical-align: middle;\n",
              "    }\n",
              "\n",
              "    .dataframe tbody tr th {\n",
              "        vertical-align: top;\n",
              "    }\n",
              "\n",
              "    .dataframe thead th {\n",
              "        text-align: right;\n",
              "    }\n",
              "</style>\n",
              "<table border=\"1\" class=\"dataframe\">\n",
              "  <thead>\n",
              "    <tr style=\"text-align: right;\">\n",
              "      <th></th>\n",
              "      <th>Historia de Credito</th>\n",
              "      <th>Divida</th>\n",
              "      <th>Garantia</th>\n",
              "      <th>Renda</th>\n",
              "      <th>Risco</th>\n",
              "    </tr>\n",
              "  </thead>\n",
              "  <tbody>\n",
              "    <tr>\n",
              "      <th>0</th>\n",
              "      <td>Ruim</td>\n",
              "      <td>Alta</td>\n",
              "      <td>Nenhuma</td>\n",
              "      <td>0_15</td>\n",
              "      <td>Alto</td>\n",
              "    </tr>\n",
              "    <tr>\n",
              "      <th>1</th>\n",
              "      <td>Desconhecida</td>\n",
              "      <td>Alta</td>\n",
              "      <td>Nenhuma</td>\n",
              "      <td>15_35</td>\n",
              "      <td>Alto</td>\n",
              "    </tr>\n",
              "    <tr>\n",
              "      <th>2</th>\n",
              "      <td>Desconhecida</td>\n",
              "      <td>Baixa</td>\n",
              "      <td>Nenhuma</td>\n",
              "      <td>15_35</td>\n",
              "      <td>Moderado</td>\n",
              "    </tr>\n",
              "    <tr>\n",
              "      <th>3</th>\n",
              "      <td>Desconhecida</td>\n",
              "      <td>Baixa</td>\n",
              "      <td>Nenhuma</td>\n",
              "      <td>acima_35</td>\n",
              "      <td>Alto</td>\n",
              "    </tr>\n",
              "    <tr>\n",
              "      <th>4</th>\n",
              "      <td>Desconhecida</td>\n",
              "      <td>Baixa</td>\n",
              "      <td>Nenhuma</td>\n",
              "      <td>acima_35</td>\n",
              "      <td>Baixo</td>\n",
              "    </tr>\n",
              "    <tr>\n",
              "      <th>5</th>\n",
              "      <td>Desconhecida</td>\n",
              "      <td>Baixa</td>\n",
              "      <td>Adequada</td>\n",
              "      <td>acima_35</td>\n",
              "      <td>Baixo</td>\n",
              "    </tr>\n",
              "    <tr>\n",
              "      <th>6</th>\n",
              "      <td>Ruim</td>\n",
              "      <td>Baixa</td>\n",
              "      <td>Nenhuma</td>\n",
              "      <td>0_15</td>\n",
              "      <td>Alto</td>\n",
              "    </tr>\n",
              "    <tr>\n",
              "      <th>7</th>\n",
              "      <td>Ruim</td>\n",
              "      <td>Baixa</td>\n",
              "      <td>Adequada</td>\n",
              "      <td>acima_35</td>\n",
              "      <td>Moderado</td>\n",
              "    </tr>\n",
              "    <tr>\n",
              "      <th>8</th>\n",
              "      <td>Boa</td>\n",
              "      <td>Baixa</td>\n",
              "      <td>Nenhuma</td>\n",
              "      <td>acima_35</td>\n",
              "      <td>Baixo</td>\n",
              "    </tr>\n",
              "    <tr>\n",
              "      <th>9</th>\n",
              "      <td>Boa</td>\n",
              "      <td>Alta</td>\n",
              "      <td>Adequada</td>\n",
              "      <td>acima_35</td>\n",
              "      <td>Baixo</td>\n",
              "    </tr>\n",
              "    <tr>\n",
              "      <th>10</th>\n",
              "      <td>Boa</td>\n",
              "      <td>Alta</td>\n",
              "      <td>Nenhuma</td>\n",
              "      <td>0_15</td>\n",
              "      <td>Alto</td>\n",
              "    </tr>\n",
              "    <tr>\n",
              "      <th>11</th>\n",
              "      <td>Boa</td>\n",
              "      <td>Alta</td>\n",
              "      <td>Nenhuma</td>\n",
              "      <td>15_35</td>\n",
              "      <td>Moderado</td>\n",
              "    </tr>\n",
              "    <tr>\n",
              "      <th>12</th>\n",
              "      <td>Boa</td>\n",
              "      <td>Alta</td>\n",
              "      <td>Nenhuma</td>\n",
              "      <td>acima_35</td>\n",
              "      <td>Baixo</td>\n",
              "    </tr>\n",
              "    <tr>\n",
              "      <th>13</th>\n",
              "      <td>Ruim</td>\n",
              "      <td>Alta</td>\n",
              "      <td>Nenhuma</td>\n",
              "      <td>15_35</td>\n",
              "      <td>Alto</td>\n",
              "    </tr>\n",
              "  </tbody>\n",
              "</table>\n",
              "</div>\n",
              "      <button class=\"colab-df-convert\" onclick=\"convertToInteractive('df-9becada1-a05a-48f1-82f1-a8a18d04f02c')\"\n",
              "              title=\"Convert this dataframe to an interactive table.\"\n",
              "              style=\"display:none;\">\n",
              "        \n",
              "  <svg xmlns=\"http://www.w3.org/2000/svg\" height=\"24px\"viewBox=\"0 0 24 24\"\n",
              "       width=\"24px\">\n",
              "    <path d=\"M0 0h24v24H0V0z\" fill=\"none\"/>\n",
              "    <path d=\"M18.56 5.44l.94 2.06.94-2.06 2.06-.94-2.06-.94-.94-2.06-.94 2.06-2.06.94zm-11 1L8.5 8.5l.94-2.06 2.06-.94-2.06-.94L8.5 2.5l-.94 2.06-2.06.94zm10 10l.94 2.06.94-2.06 2.06-.94-2.06-.94-.94-2.06-.94 2.06-2.06.94z\"/><path d=\"M17.41 7.96l-1.37-1.37c-.4-.4-.92-.59-1.43-.59-.52 0-1.04.2-1.43.59L10.3 9.45l-7.72 7.72c-.78.78-.78 2.05 0 2.83L4 21.41c.39.39.9.59 1.41.59.51 0 1.02-.2 1.41-.59l7.78-7.78 2.81-2.81c.8-.78.8-2.07 0-2.86zM5.41 20L4 18.59l7.72-7.72 1.47 1.35L5.41 20z\"/>\n",
              "  </svg>\n",
              "      </button>\n",
              "      \n",
              "  <style>\n",
              "    .colab-df-container {\n",
              "      display:flex;\n",
              "      flex-wrap:wrap;\n",
              "      gap: 12px;\n",
              "    }\n",
              "\n",
              "    .colab-df-convert {\n",
              "      background-color: #E8F0FE;\n",
              "      border: none;\n",
              "      border-radius: 50%;\n",
              "      cursor: pointer;\n",
              "      display: none;\n",
              "      fill: #1967D2;\n",
              "      height: 32px;\n",
              "      padding: 0 0 0 0;\n",
              "      width: 32px;\n",
              "    }\n",
              "\n",
              "    .colab-df-convert:hover {\n",
              "      background-color: #E2EBFA;\n",
              "      box-shadow: 0px 1px 2px rgba(60, 64, 67, 0.3), 0px 1px 3px 1px rgba(60, 64, 67, 0.15);\n",
              "      fill: #174EA6;\n",
              "    }\n",
              "\n",
              "    [theme=dark] .colab-df-convert {\n",
              "      background-color: #3B4455;\n",
              "      fill: #D2E3FC;\n",
              "    }\n",
              "\n",
              "    [theme=dark] .colab-df-convert:hover {\n",
              "      background-color: #434B5C;\n",
              "      box-shadow: 0px 1px 3px 1px rgba(0, 0, 0, 0.15);\n",
              "      filter: drop-shadow(0px 1px 2px rgba(0, 0, 0, 0.3));\n",
              "      fill: #FFFFFF;\n",
              "    }\n",
              "  </style>\n",
              "\n",
              "      <script>\n",
              "        const buttonEl =\n",
              "          document.querySelector('#df-9becada1-a05a-48f1-82f1-a8a18d04f02c button.colab-df-convert');\n",
              "        buttonEl.style.display =\n",
              "          google.colab.kernel.accessAllowed ? 'block' : 'none';\n",
              "\n",
              "        async function convertToInteractive(key) {\n",
              "          const element = document.querySelector('#df-9becada1-a05a-48f1-82f1-a8a18d04f02c');\n",
              "          const dataTable =\n",
              "            await google.colab.kernel.invokeFunction('convertToInteractive',\n",
              "                                                     [key], {});\n",
              "          if (!dataTable) return;\n",
              "\n",
              "          const docLinkHtml = 'Like what you see? Visit the ' +\n",
              "            '<a target=\"_blank\" href=https://colab.research.google.com/notebooks/data_table.ipynb>data table notebook</a>'\n",
              "            + ' to learn more about interactive tables.';\n",
              "          element.innerHTML = '';\n",
              "          dataTable['output_type'] = 'display_data';\n",
              "          await google.colab.output.renderOutput(dataTable, element);\n",
              "          const docLink = document.createElement('div');\n",
              "          docLink.innerHTML = docLinkHtml;\n",
              "          element.appendChild(docLink);\n",
              "        }\n",
              "      </script>\n",
              "    </div>\n",
              "  </div>\n",
              "  "
            ]
          },
          "metadata": {},
          "execution_count": 4
        }
      ]
    },
    {
      "cell_type": "code",
      "source": [
        "#Pre-processamento dos dados\n",
        "x_risco_credito = base_risco_credito.iloc[:, 0:4].values\n",
        "x_risco_credito #mostra todos os atributos com excessao da clase"
      ],
      "metadata": {
        "colab": {
          "base_uri": "https://localhost:8080/"
        },
        "id": "QLIi9El2xg9N",
        "outputId": "b6a7a910-6bb6-4199-958b-14214bf005db"
      },
      "execution_count": 6,
      "outputs": [
        {
          "output_type": "execute_result",
          "data": {
            "text/plain": [
              "array([['Ruim', 'Alta', 'Nenhuma', '0_15'],\n",
              "       ['Desconhecida', 'Alta', 'Nenhuma', '15_35'],\n",
              "       ['Desconhecida', 'Baixa', 'Nenhuma', '15_35'],\n",
              "       ['Desconhecida', 'Baixa', 'Nenhuma', 'acima_35'],\n",
              "       ['Desconhecida', 'Baixa', 'Nenhuma', 'acima_35'],\n",
              "       ['Desconhecida', 'Baixa', 'Adequada', 'acima_35'],\n",
              "       ['Ruim', 'Baixa', 'Nenhuma', '0_15'],\n",
              "       ['Ruim', 'Baixa', 'Adequada', 'acima_35'],\n",
              "       ['Boa', 'Baixa', 'Nenhuma', 'acima_35'],\n",
              "       ['Boa', 'Alta', 'Adequada', 'acima_35'],\n",
              "       ['Boa', 'Alta', 'Nenhuma', '0_15'],\n",
              "       ['Boa', 'Alta', 'Nenhuma', '15_35'],\n",
              "       ['Boa', 'Alta', 'Nenhuma', 'acima_35'],\n",
              "       ['Ruim', 'Alta', 'Nenhuma', '15_35']], dtype=object)"
            ]
          },
          "metadata": {},
          "execution_count": 6
        }
      ]
    },
    {
      "cell_type": "code",
      "source": [
        "#Pre-processamento dos dados\n",
        "y_risco_credito = base_risco_credito.iloc[:, 4].values\n",
        "y_risco_credito #mostrar classe"
      ],
      "metadata": {
        "colab": {
          "base_uri": "https://localhost:8080/"
        },
        "id": "zJUxAAopxxaN",
        "outputId": "cf8595a2-632d-41ec-8e9b-84aac6590140"
      },
      "execution_count": 7,
      "outputs": [
        {
          "output_type": "execute_result",
          "data": {
            "text/plain": [
              "array(['Alto', 'Alto', 'Moderado', 'Alto', 'Baixo', 'Baixo', 'Alto',\n",
              "       'Moderado', 'Baixo', 'Baixo', 'Alto', 'Moderado', 'Baixo', 'Alto'],\n",
              "      dtype=object)"
            ]
          },
          "metadata": {},
          "execution_count": 7
        }
      ]
    },
    {
      "cell_type": "code",
      "source": [
        "#Pre-processamento dos dados\n",
        "from sklearn.preprocessing import LabelEncoder\n",
        "label_encoder_historia = LabelEncoder()\n",
        "label_encoder_divida = LabelEncoder()\n",
        "label_encoder_garantia = LabelEncoder()\n",
        "label_encoder_renda = LabelEncoder()"
      ],
      "metadata": {
        "id": "hzgErK8cy8_j"
      },
      "execution_count": 8,
      "outputs": []
    },
    {
      "cell_type": "code",
      "source": [
        "#Pre-processamento dos dados\n",
        "x_risco_credito[:, 0] = label_encoder_historia.fit_transform(x_risco_credito[:, 0])\n",
        "x_risco_credito[:, 1] = label_encoder_divida.fit_transform(x_risco_credito[:, 1])\n",
        "x_risco_credito[:, 2] = label_encoder_garantia.fit_transform(x_risco_credito[:, 2])\n",
        "x_risco_credito[:, 3] = label_encoder_renda.fit_transform(x_risco_credito[:, 3])"
      ],
      "metadata": {
        "id": "t-t8Dx3Iy_mD"
      },
      "execution_count": 9,
      "outputs": []
    },
    {
      "cell_type": "code",
      "source": [
        "#Pre-processamento dos dados\n",
        "x_risco_credito"
      ],
      "metadata": {
        "colab": {
          "base_uri": "https://localhost:8080/"
        },
        "id": "nCT74fu5zCds",
        "outputId": "404d4757-eaea-42c1-d751-fdd7c2033954"
      },
      "execution_count": 10,
      "outputs": [
        {
          "output_type": "execute_result",
          "data": {
            "text/plain": [
              "array([[2, 0, 1, 0],\n",
              "       [1, 0, 1, 1],\n",
              "       [1, 1, 1, 1],\n",
              "       [1, 1, 1, 2],\n",
              "       [1, 1, 1, 2],\n",
              "       [1, 1, 0, 2],\n",
              "       [2, 1, 1, 0],\n",
              "       [2, 1, 0, 2],\n",
              "       [0, 1, 1, 2],\n",
              "       [0, 0, 0, 2],\n",
              "       [0, 0, 1, 0],\n",
              "       [0, 0, 1, 1],\n",
              "       [0, 0, 1, 2],\n",
              "       [2, 0, 1, 1]], dtype=object)"
            ]
          },
          "metadata": {},
          "execution_count": 10
        }
      ]
    },
    {
      "cell_type": "code",
      "source": [
        "# salvando os dados pre-processados\n",
        "import pickle\n",
        "with open('risco_credito.pkl', 'wb') as f:\n",
        "  pickle.dump([x_risco_credito, y_risco_credito], f) "
      ],
      "metadata": {
        "id": "8P0y6gHszE6T"
      },
      "execution_count": 11,
      "outputs": []
    },
    {
      "cell_type": "code",
      "source": [
        "import pickle\n",
        "with open('risco_credito.pkl', 'rb') as f:  # abrindo o arquivo já pre-processado\n",
        "  x_risco_credito, y_risco_credito = pickle.load(f)\n",
        "\n"
      ],
      "metadata": {
        "id": "9W_1KTU_zI3q"
      },
      "execution_count": 12,
      "outputs": []
    },
    {
      "cell_type": "code",
      "source": [
        "x_risco_credito"
      ],
      "metadata": {
        "colab": {
          "base_uri": "https://localhost:8080/"
        },
        "id": "btoSmBxzzLWH",
        "outputId": "34fc6232-f9fb-49f0-f78e-7d6ca0099847"
      },
      "execution_count": 13,
      "outputs": [
        {
          "output_type": "execute_result",
          "data": {
            "text/plain": [
              "array([[2, 0, 1, 0],\n",
              "       [1, 0, 1, 1],\n",
              "       [1, 1, 1, 1],\n",
              "       [1, 1, 1, 2],\n",
              "       [1, 1, 1, 2],\n",
              "       [1, 1, 0, 2],\n",
              "       [2, 1, 1, 0],\n",
              "       [2, 1, 0, 2],\n",
              "       [0, 1, 1, 2],\n",
              "       [0, 0, 0, 2],\n",
              "       [0, 0, 1, 0],\n",
              "       [0, 0, 1, 1],\n",
              "       [0, 0, 1, 2],\n",
              "       [2, 0, 1, 1]], dtype=object)"
            ]
          },
          "metadata": {},
          "execution_count": 13
        }
      ]
    },
    {
      "cell_type": "code",
      "source": [
        "y_risco_credito"
      ],
      "metadata": {
        "colab": {
          "base_uri": "https://localhost:8080/"
        },
        "id": "jQLYQwsxzN94",
        "outputId": "e4a5edb1-a1b3-47be-c63b-a3c9ab215f0f"
      },
      "execution_count": 14,
      "outputs": [
        {
          "output_type": "execute_result",
          "data": {
            "text/plain": [
              "array(['Alto', 'Alto', 'Moderado', 'Alto', 'Baixo', 'Baixo', 'Alto',\n",
              "       'Moderado', 'Baixo', 'Baixo', 'Alto', 'Moderado', 'Baixo', 'Alto'],\n",
              "      dtype=object)"
            ]
          },
          "metadata": {},
          "execution_count": 14
        }
      ]
    },
    {
      "cell_type": "code",
      "source": [
        "def fitting(X, y, criterion, splitter, mdepth, clweight, minleaf):\n",
        "\n",
        "    # Create training and testing samples\n",
        "    X_train, X_test, y_train, y_test = train_test_split(X, y, test_size=0.25, random_state=0)\n",
        "\n",
        "    # Fit the model\n",
        "    model = tree.DecisionTreeClassifier(criterion=criterion, \n",
        "                                        splitter=splitter, \n",
        "                                        max_depth=mdepth,\n",
        "                                        class_weight=clweight,\n",
        "                                        min_samples_leaf=minleaf, \n",
        "                                        random_state=0, \n",
        "                                  )\n",
        "    clf = model.fit(X_train, y_train)\n",
        "\n",
        "    # Predict class labels on training data\n",
        "    pred_labels_tr = model.predict(X_train)\n",
        "    # Predict class labels on a test data\n",
        "    pred_labels_te = model.predict(X_test)\n",
        "\n",
        "    # Tree summary and model evaluation metrics\n",
        "    print('*************** Tree Summary ***************')\n",
        "    print('Classes: ', clf.classes_)\n",
        "    print('Tree Depth: ', clf.tree_.max_depth)\n",
        "    print('No. of leaves: ', clf.tree_.n_leaves)\n",
        "    print('No. of features: ', clf.n_features_in_)\n",
        "    print('--------------------------------------------------------')\n",
        "    print(\"\")\n",
        "    \n",
        "    print('*************** Evaluation on Test Data ***************')\n",
        "    score_te = model.score(X_test, y_test)\n",
        "    print('Accuracy Score: ', score_te)\n",
        "    # Look at classification report to evaluate the model\n",
        "    print(classification_report(y_test, pred_labels_te))\n",
        "    print('--------------------------------------------------------')\n",
        "    print(\"\")\n",
        "    \n",
        "    print('*************** Evaluation on Training Data ***************')\n",
        "    score_tr = model.score(X_train, y_train)\n",
        "    print('Accuracy Score: ', score_tr)\n",
        "    # Look at classification report to evaluate the model\n",
        "    print(classification_report(y_train, pred_labels_tr))\n",
        "    print('--------------------------------------------------------')\n",
        "    \n",
        "\n",
        "    # Return relevant data for chart plotting\n",
        "    return X_train, X_test, y_train, y_test, clf"
      ],
      "metadata": {
        "id": "duEgcbwGzY_U"
      },
      "execution_count": 15,
      "outputs": []
    },
    {
      "cell_type": "code",
      "source": [
        "# Fit the model and display results\n",
        "X_train, X_test, y_train, y_test, clf = fitting(x_risco_credito, y_risco_credito  , 'gini', 'best', \n",
        "                                                       mdepth=3, \n",
        "                                                       clweight=None,\n",
        "                                                       minleaf=1)\n",
        "from sklearn import tree\n",
        "import matplotlib.pyplot as plt\n",
        "\n",
        "previsores = ['historia de credito', 'divida', 'garantias', 'renda']\n",
        "figura, eixos = plt.subplots(nrows = 1, ncols =1, figsize=(10,10))\n",
        "tree.plot_tree(clf, feature_names=previsores, class_names = clf.classes_, filled= True)"
      ],
      "metadata": {
        "colab": {
          "base_uri": "https://localhost:8080/",
          "height": 1000
        },
        "id": "loVrV3ZhzPTX",
        "outputId": "8ba73540-91ae-45ae-b05b-ed3dcddf68b9"
      },
      "execution_count": 17,
      "outputs": [
        {
          "output_type": "stream",
          "name": "stdout",
          "text": [
            "*************** Tree Summary ***************\n",
            "Classes:  ['Alto' 'Baixo' 'Moderado']\n",
            "Tree Depth:  3\n",
            "No. of leaves:  5\n",
            "No. of features:  4\n",
            "--------------------------------------------------------\n",
            "\n",
            "*************** Evaluation on Test Data ***************\n",
            "Accuracy Score:  0.0\n",
            "              precision    recall  f1-score   support\n",
            "\n",
            "        Alto       0.00      0.00      0.00       1.0\n",
            "       Baixo       0.00      0.00      0.00       2.0\n",
            "    Moderado       0.00      0.00      0.00       1.0\n",
            "\n",
            "    accuracy                           0.00       4.0\n",
            "   macro avg       0.00      0.00      0.00       4.0\n",
            "weighted avg       0.00      0.00      0.00       4.0\n",
            "\n",
            "--------------------------------------------------------\n",
            "\n",
            "*************** Evaluation on Training Data ***************\n",
            "Accuracy Score:  0.9\n",
            "              precision    recall  f1-score   support\n",
            "\n",
            "        Alto       0.83      1.00      0.91         5\n",
            "       Baixo       1.00      0.67      0.80         3\n",
            "    Moderado       1.00      1.00      1.00         2\n",
            "\n",
            "    accuracy                           0.90        10\n",
            "   macro avg       0.94      0.89      0.90        10\n",
            "weighted avg       0.92      0.90      0.89        10\n",
            "\n",
            "--------------------------------------------------------\n"
          ]
        },
        {
          "output_type": "stream",
          "name": "stderr",
          "text": [
            "/usr/local/lib/python3.7/dist-packages/sklearn/metrics/_classification.py:1318: UndefinedMetricWarning: Precision and F-score are ill-defined and being set to 0.0 in labels with no predicted samples. Use `zero_division` parameter to control this behavior.\n",
            "  _warn_prf(average, modifier, msg_start, len(result))\n",
            "/usr/local/lib/python3.7/dist-packages/sklearn/metrics/_classification.py:1318: UndefinedMetricWarning: Precision and F-score are ill-defined and being set to 0.0 in labels with no predicted samples. Use `zero_division` parameter to control this behavior.\n",
            "  _warn_prf(average, modifier, msg_start, len(result))\n",
            "/usr/local/lib/python3.7/dist-packages/sklearn/metrics/_classification.py:1318: UndefinedMetricWarning: Precision and F-score are ill-defined and being set to 0.0 in labels with no predicted samples. Use `zero_division` parameter to control this behavior.\n",
            "  _warn_prf(average, modifier, msg_start, len(result))\n"
          ]
        },
        {
          "output_type": "execute_result",
          "data": {
            "text/plain": [
              "[Text(0.5, 0.875, 'renda <= 1.5\\ngini = 0.62\\nsamples = 10\\nvalue = [5, 3, 2]\\nclass = Alto'),\n",
              " Text(0.25, 0.625, 'divida <= 0.5\\ngini = 0.32\\nsamples = 5\\nvalue = [4, 0, 1]\\nclass = Alto'),\n",
              " Text(0.125, 0.375, 'gini = 0.0\\nsamples = 4\\nvalue = [4, 0, 0]\\nclass = Alto'),\n",
              " Text(0.375, 0.375, 'gini = 0.0\\nsamples = 1\\nvalue = [0, 0, 1]\\nclass = Moderado'),\n",
              " Text(0.75, 0.625, 'historia de credito <= 1.5\\ngini = 0.56\\nsamples = 5\\nvalue = [1, 3, 1]\\nclass = Baixo'),\n",
              " Text(0.625, 0.375, 'garantias <= 0.5\\ngini = 0.375\\nsamples = 4\\nvalue = [1, 3, 0]\\nclass = Baixo'),\n",
              " Text(0.5, 0.125, 'gini = 0.0\\nsamples = 2\\nvalue = [0, 2, 0]\\nclass = Baixo'),\n",
              " Text(0.75, 0.125, 'gini = 0.5\\nsamples = 2\\nvalue = [1, 1, 0]\\nclass = Alto'),\n",
              " Text(0.875, 0.375, 'gini = 0.0\\nsamples = 1\\nvalue = [0, 0, 1]\\nclass = Moderado')]"
            ]
          },
          "metadata": {},
          "execution_count": 17
        },
        {
          "output_type": "display_data",
          "data": {
            "text/plain": [
              "<Figure size 720x720 with 1 Axes>"
            ],
            "image/png": "[encoded data removed]"
          },
          "metadata": {
            "needs_background": "light"
          }
        }
      ]
    },
    {
      "cell_type": "code",
      "source": [
        "#espaço para realizar testes:\n",
        "#Entradas em numeros para as instancias:\n",
        "#Pra Historia de credito\n",
        "# 0 ->  Boa\n",
        "# 1 ->  Desconhecida\n",
        "# 2 ->  Ruim\n",
        "\n",
        "\n",
        "#Pra Divida\n",
        "# 0 ->  Alta\n",
        "# 1 ->  Baixa\n",
        "\n",
        "#Pra Garantia\n",
        "# 0 ->  Adequada\n",
        "# 1 ->  Nenhuma\n",
        "\n",
        "\n",
        "#Pra Renda\n",
        "# 0 ->  entre 0 e 15\n",
        "# 1 ->  entre 15 e 35\n",
        "# 2 -> acima de 35\n",
        "\n",
        "\n",
        "\n",
        "#exemplo para [boa, baixa, nenhuma, entre 0 e 15]\n",
        "previsores= clf.predict([[0,1,1, 0]])\n",
        "previsores"
      ],
      "metadata": {
        "colab": {
          "base_uri": "https://localhost:8080/"
        },
        "id": "KzycXjeQ1TY9",
        "outputId": "552a5ea6-5c48-41af-d1ca-124f75f2a611"
      },
      "execution_count": 18,
      "outputs": [
        {
          "output_type": "execute_result",
          "data": {
            "text/plain": [
              "array(['Moderado'], dtype=object)"
            ]
          },
          "metadata": {},
          "execution_count": 18
        }
      ]
    }
  ]
}
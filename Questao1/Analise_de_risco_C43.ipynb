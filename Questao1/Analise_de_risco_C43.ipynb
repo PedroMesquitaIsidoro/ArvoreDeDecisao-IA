{
  "nbformat": 4,
  "nbformat_minor": 0,
  "metadata": {
    "colab": {
      "provenance": [],
      "collapsed_sections": [],
      "authorship_tag": "ABX9TyOMPzAWGtCO1PkoQELz9wv9",
      "include_colab_link": true
    },
    "kernelspec": {
      "name": "python3",
      "display_name": "Python 3"
    },
    "language_info": {
      "name": "python"
    }
  },
  "cells": [
    {
      "cell_type": "markdown",
      "metadata": {
        "id": "view-in-github",
        "colab_type": "text"
      },
      "source": [
        "<a href=\"https://colab.research.google.com/github/PedroMesquitaIsidoro/ArvoreDeDecisao-IA/blob/main/Questao1/Analise_de_risco_C43.ipynb\" target=\"_parent\"><img src=\"https://colab.research.google.com/assets/colab-badge.svg\" alt=\"Open In Colab\"/></a>"
      ]
    },
    {
      "cell_type": "code",
      "execution_count": 40,
      "metadata": {
        "colab": {
          "base_uri": "https://localhost:8080/",
          "height": 488
        },
        "id": "Jay2sXWmzDwN",
        "outputId": "d2e187a3-3a93-4e0d-fdaf-fadd3ac6d02d"
      },
      "outputs": [
        {
          "output_type": "execute_result",
          "data": {
            "text/plain": [
              "   Historia de Credito Divida  Garantia     Renda     Risco\n",
              "0                 Ruim   Alta   Nenhuma      0_15      Alto\n",
              "1         Desconhecida   Alta   Nenhuma     15_35      Alto\n",
              "2         Desconhecida  Baixa   Nenhuma     15_35  Moderado\n",
              "3         Desconhecida  Baixa   Nenhuma  acima_35      Alto\n",
              "4         Desconhecida  Baixa   Nenhuma  acima_35     Baixo\n",
              "5         Desconhecida  Baixa  Adequada  acima_35     Baixo\n",
              "6                 Ruim  Baixa   Nenhuma      0_15      Alto\n",
              "7                 Ruim  Baixa  Adequada  acima_35  Moderado\n",
              "8                  Boa  Baixa   Nenhuma  acima_35     Baixo\n",
              "9                  Boa   Alta  Adequada  acima_35     Baixo\n",
              "10                 Boa   Alta   Nenhuma      0_15      Alto\n",
              "11                 Boa   Alta   Nenhuma     15_35  Moderado\n",
              "12                 Boa   Alta   Nenhuma  acima_35     Baixo\n",
              "13                Ruim   Alta   Nenhuma     15_35      Alto"
            ],
            "text/html": [
              "\n",
              "  <div id=\"df-23eb0563-061b-4432-bd3a-1f8da039f949\">\n",
              "    <div class=\"colab-df-container\">\n",
              "      <div>\n",
              "<style scoped>\n",
              "    .dataframe tbody tr th:only-of-type {\n",
              "        vertical-align: middle;\n",
              "    }\n",
              "\n",
              "    .dataframe tbody tr th {\n",
              "        vertical-align: top;\n",
              "    }\n",
              "\n",
              "    .dataframe thead th {\n",
              "        text-align: right;\n",
              "    }\n",
              "</style>\n",
              "<table border=\"1\" class=\"dataframe\">\n",
              "  <thead>\n",
              "    <tr style=\"text-align: right;\">\n",
              "      <th></th>\n",
              "      <th>Historia de Credito</th>\n",
              "      <th>Divida</th>\n",
              "      <th>Garantia</th>\n",
              "      <th>Renda</th>\n",
              "      <th>Risco</th>\n",
              "    </tr>\n",
              "  </thead>\n",
              "  <tbody>\n",
              "    <tr>\n",
              "      <th>0</th>\n",
              "      <td>Ruim</td>\n",
              "      <td>Alta</td>\n",
              "      <td>Nenhuma</td>\n",
              "      <td>0_15</td>\n",
              "      <td>Alto</td>\n",
              "    </tr>\n",
              "    <tr>\n",
              "      <th>1</th>\n",
              "      <td>Desconhecida</td>\n",
              "      <td>Alta</td>\n",
              "      <td>Nenhuma</td>\n",
              "      <td>15_35</td>\n",
              "      <td>Alto</td>\n",
              "    </tr>\n",
              "    <tr>\n",
              "      <th>2</th>\n",
              "      <td>Desconhecida</td>\n",
              "      <td>Baixa</td>\n",
              "      <td>Nenhuma</td>\n",
              "      <td>15_35</td>\n",
              "      <td>Moderado</td>\n",
              "    </tr>\n",
              "    <tr>\n",
              "      <th>3</th>\n",
              "      <td>Desconhecida</td>\n",
              "      <td>Baixa</td>\n",
              "      <td>Nenhuma</td>\n",
              "      <td>acima_35</td>\n",
              "      <td>Alto</td>\n",
              "    </tr>\n",
              "    <tr>\n",
              "      <th>4</th>\n",
              "      <td>Desconhecida</td>\n",
              "      <td>Baixa</td>\n",
              "      <td>Nenhuma</td>\n",
              "      <td>acima_35</td>\n",
              "      <td>Baixo</td>\n",
              "    </tr>\n",
              "    <tr>\n",
              "      <th>5</th>\n",
              "      <td>Desconhecida</td>\n",
              "      <td>Baixa</td>\n",
              "      <td>Adequada</td>\n",
              "      <td>acima_35</td>\n",
              "      <td>Baixo</td>\n",
              "    </tr>\n",
              "    <tr>\n",
              "      <th>6</th>\n",
              "      <td>Ruim</td>\n",
              "      <td>Baixa</td>\n",
              "      <td>Nenhuma</td>\n",
              "      <td>0_15</td>\n",
              "      <td>Alto</td>\n",
              "    </tr>\n",
              "    <tr>\n",
              "      <th>7</th>\n",
              "      <td>Ruim</td>\n",
              "      <td>Baixa</td>\n",
              "      <td>Adequada</td>\n",
              "      <td>acima_35</td>\n",
              "      <td>Moderado</td>\n",
              "    </tr>\n",
              "    <tr>\n",
              "      <th>8</th>\n",
              "      <td>Boa</td>\n",
              "      <td>Baixa</td>\n",
              "      <td>Nenhuma</td>\n",
              "      <td>acima_35</td>\n",
              "      <td>Baixo</td>\n",
              "    </tr>\n",
              "    <tr>\n",
              "      <th>9</th>\n",
              "      <td>Boa</td>\n",
              "      <td>Alta</td>\n",
              "      <td>Adequada</td>\n",
              "      <td>acima_35</td>\n",
              "      <td>Baixo</td>\n",
              "    </tr>\n",
              "    <tr>\n",
              "      <th>10</th>\n",
              "      <td>Boa</td>\n",
              "      <td>Alta</td>\n",
              "      <td>Nenhuma</td>\n",
              "      <td>0_15</td>\n",
              "      <td>Alto</td>\n",
              "    </tr>\n",
              "    <tr>\n",
              "      <th>11</th>\n",
              "      <td>Boa</td>\n",
              "      <td>Alta</td>\n",
              "      <td>Nenhuma</td>\n",
              "      <td>15_35</td>\n",
              "      <td>Moderado</td>\n",
              "    </tr>\n",
              "    <tr>\n",
              "      <th>12</th>\n",
              "      <td>Boa</td>\n",
              "      <td>Alta</td>\n",
              "      <td>Nenhuma</td>\n",
              "      <td>acima_35</td>\n",
              "      <td>Baixo</td>\n",
              "    </tr>\n",
              "    <tr>\n",
              "      <th>13</th>\n",
              "      <td>Ruim</td>\n",
              "      <td>Alta</td>\n",
              "      <td>Nenhuma</td>\n",
              "      <td>15_35</td>\n",
              "      <td>Alto</td>\n",
              "    </tr>\n",
              "  </tbody>\n",
              "</table>\n",
              "</div>\n",
              "      <button class=\"colab-df-convert\" onclick=\"convertToInteractive('df-23eb0563-061b-4432-bd3a-1f8da039f949')\"\n",
              "              title=\"Convert this dataframe to an interactive table.\"\n",
              "              style=\"display:none;\">\n",
              "        \n",
              "  <svg xmlns=\"http://www.w3.org/2000/svg\" height=\"24px\"viewBox=\"0 0 24 24\"\n",
              "       width=\"24px\">\n",
              "    <path d=\"M0 0h24v24H0V0z\" fill=\"none\"/>\n",
              "    <path d=\"M18.56 5.44l.94 2.06.94-2.06 2.06-.94-2.06-.94-.94-2.06-.94 2.06-2.06.94zm-11 1L8.5 8.5l.94-2.06 2.06-.94-2.06-.94L8.5 2.5l-.94 2.06-2.06.94zm10 10l.94 2.06.94-2.06 2.06-.94-2.06-.94-.94-2.06-.94 2.06-2.06.94z\"/><path d=\"M17.41 7.96l-1.37-1.37c-.4-.4-.92-.59-1.43-.59-.52 0-1.04.2-1.43.59L10.3 9.45l-7.72 7.72c-.78.78-.78 2.05 0 2.83L4 21.41c.39.39.9.59 1.41.59.51 0 1.02-.2 1.41-.59l7.78-7.78 2.81-2.81c.8-.78.8-2.07 0-2.86zM5.41 20L4 18.59l7.72-7.72 1.47 1.35L5.41 20z\"/>\n",
              "  </svg>\n",
              "      </button>\n",
              "      \n",
              "  <style>\n",
              "    .colab-df-container {\n",
              "      display:flex;\n",
              "      flex-wrap:wrap;\n",
              "      gap: 12px;\n",
              "    }\n",
              "\n",
              "    .colab-df-convert {\n",
              "      background-color: #E8F0FE;\n",
              "      border: none;\n",
              "      border-radius: 50%;\n",
              "      cursor: pointer;\n",
              "      display: none;\n",
              "      fill: #1967D2;\n",
              "      height: 32px;\n",
              "      padding: 0 0 0 0;\n",
              "      width: 32px;\n",
              "    }\n",
              "\n",
              "    .colab-df-convert:hover {\n",
              "      background-color: #E2EBFA;\n",
              "      box-shadow: 0px 1px 2px rgba(60, 64, 67, 0.3), 0px 1px 3px 1px rgba(60, 64, 67, 0.15);\n",
              "      fill: #174EA6;\n",
              "    }\n",
              "\n",
              "    [theme=dark] .colab-df-convert {\n",
              "      background-color: #3B4455;\n",
              "      fill: #D2E3FC;\n",
              "    }\n",
              "\n",
              "    [theme=dark] .colab-df-convert:hover {\n",
              "      background-color: #434B5C;\n",
              "      box-shadow: 0px 1px 3px 1px rgba(0, 0, 0, 0.15);\n",
              "      filter: drop-shadow(0px 1px 2px rgba(0, 0, 0, 0.3));\n",
              "      fill: #FFFFFF;\n",
              "    }\n",
              "  </style>\n",
              "\n",
              "      <script>\n",
              "        const buttonEl =\n",
              "          document.querySelector('#df-23eb0563-061b-4432-bd3a-1f8da039f949 button.colab-df-convert');\n",
              "        buttonEl.style.display =\n",
              "          google.colab.kernel.accessAllowed ? 'block' : 'none';\n",
              "\n",
              "        async function convertToInteractive(key) {\n",
              "          const element = document.querySelector('#df-23eb0563-061b-4432-bd3a-1f8da039f949');\n",
              "          const dataTable =\n",
              "            await google.colab.kernel.invokeFunction('convertToInteractive',\n",
              "                                                     [key], {});\n",
              "          if (!dataTable) return;\n",
              "\n",
              "          const docLinkHtml = 'Like what you see? Visit the ' +\n",
              "            '<a target=\"_blank\" href=https://colab.research.google.com/notebooks/data_table.ipynb>data table notebook</a>'\n",
              "            + ' to learn more about interactive tables.';\n",
              "          element.innerHTML = '';\n",
              "          dataTable['output_type'] = 'display_data';\n",
              "          await google.colab.output.renderOutput(dataTable, element);\n",
              "          const docLink = document.createElement('div');\n",
              "          docLink.innerHTML = docLinkHtml;\n",
              "          element.appendChild(docLink);\n",
              "        }\n",
              "      </script>\n",
              "    </div>\n",
              "  </div>\n",
              "  "
            ]
          },
          "metadata": {},
          "execution_count": 40
        }
      ],
      "source": [
        "#######   Arvore de decisao C4.5\n",
        "import pandas as pd # para trabalhar com a planilha\n",
        "import numpy as np # para calculos \n",
        "base_risco_credito = pd.read_csv('RiscoDeCredito.csv')\n",
        "base_risco_credito"
      ]
    },
    {
      "cell_type": "code",
      "source": [
        "#Pre-processamento dos dados\n",
        "x_risco_credito = base_risco_credito.iloc[:, 0:4].values\n",
        "x_risco_credito #mostra todos os atributos com excessao da clase"
      ],
      "metadata": {
        "colab": {
          "base_uri": "https://localhost:8080/"
        },
        "id": "79YdjHtezKEr",
        "outputId": "f7e77d09-9fd4-4aa4-e21c-2b7123e56d00"
      },
      "execution_count": 3,
      "outputs": [
        {
          "output_type": "execute_result",
          "data": {
            "text/plain": [
              "array([['Ruim', 'Alta', 'Nenhuma', '0_15'],\n",
              "       ['Desconhecida', 'Alta', 'Nenhuma', '15_35'],\n",
              "       ['Desconhecida', 'Baixa', 'Nenhuma', '15_35'],\n",
              "       ['Desconhecida', 'Baixa', 'Nenhuma', 'acima_35'],\n",
              "       ['Desconhecida', 'Baixa', 'Nenhuma', 'acima_35'],\n",
              "       ['Desconhecida', 'Baixa', 'Adequada', 'acima_35'],\n",
              "       ['Ruim', 'Baixa', 'Nenhuma', '0_15'],\n",
              "       ['Ruim', 'Baixa', 'Adequada', 'acima_35'],\n",
              "       ['Boa', 'Baixa', 'Nenhuma', 'acima_35'],\n",
              "       ['Boa', 'Alta', 'Adequada', 'acima_35'],\n",
              "       ['Boa', 'Alta', 'Nenhuma', '0_15'],\n",
              "       ['Boa', 'Alta', 'Nenhuma', '15_35'],\n",
              "       ['Boa', 'Alta', 'Nenhuma', 'acima_35'],\n",
              "       ['Ruim', 'Alta', 'Nenhuma', '15_35']], dtype=object)"
            ]
          },
          "metadata": {},
          "execution_count": 3
        }
      ]
    },
    {
      "cell_type": "code",
      "source": [
        "#Pre-processamento dos dados\n",
        "y_risco_credito = base_risco_credito.iloc[:, 4].values\n",
        "y_risco_credito #mostrar classe"
      ],
      "metadata": {
        "colab": {
          "base_uri": "https://localhost:8080/"
        },
        "id": "HEBQgyRazNjw",
        "outputId": "24aefd6f-9796-4c77-a854-4bfd09e0471d"
      },
      "execution_count": 4,
      "outputs": [
        {
          "output_type": "execute_result",
          "data": {
            "text/plain": [
              "array(['Alto', 'Alto', 'Moderado', 'Alto', 'Baixo', 'Baixo', 'Alto',\n",
              "       'Moderado', 'Baixo', 'Baixo', 'Alto', 'Moderado', 'Baixo', 'Alto'],\n",
              "      dtype=object)"
            ]
          },
          "metadata": {},
          "execution_count": 4
        }
      ]
    },
    {
      "cell_type": "code",
      "source": [
        "#Pre-processamento dos dados\n",
        "from sklearn.preprocessing import LabelEncoder\n",
        "label_encoder_historia = LabelEncoder()\n",
        "label_encoder_divida = LabelEncoder()\n",
        "label_encoder_garantia = LabelEncoder()\n",
        "label_encoder_renda = LabelEncoder()"
      ],
      "metadata": {
        "id": "0_KceQH-zQzh"
      },
      "execution_count": 5,
      "outputs": []
    },
    {
      "cell_type": "code",
      "source": [
        "#Pre-processamento dos dados\n",
        "x_risco_credito[:, 0] = label_encoder_historia.fit_transform(x_risco_credito[:, 0])\n",
        "x_risco_credito[:, 1] = label_encoder_divida.fit_transform(x_risco_credito[:, 1])\n",
        "x_risco_credito[:, 2] = label_encoder_garantia.fit_transform(x_risco_credito[:, 2])\n",
        "x_risco_credito[:, 3] = label_encoder_renda.fit_transform(x_risco_credito[:, 3])"
      ],
      "metadata": {
        "id": "rZ5HDykJzTDb"
      },
      "execution_count": 6,
      "outputs": []
    },
    {
      "cell_type": "code",
      "source": [
        "#Pre-processamento dos dados\n",
        "x_risco_credito"
      ],
      "metadata": {
        "colab": {
          "base_uri": "https://localhost:8080/"
        },
        "id": "X9_tUoWbzVe7",
        "outputId": "f654d4b9-01c9-400f-86c7-90cbe2ad6341"
      },
      "execution_count": 7,
      "outputs": [
        {
          "output_type": "execute_result",
          "data": {
            "text/plain": [
              "array([[2, 0, 1, 0],\n",
              "       [1, 0, 1, 1],\n",
              "       [1, 1, 1, 1],\n",
              "       [1, 1, 1, 2],\n",
              "       [1, 1, 1, 2],\n",
              "       [1, 1, 0, 2],\n",
              "       [2, 1, 1, 0],\n",
              "       [2, 1, 0, 2],\n",
              "       [0, 1, 1, 2],\n",
              "       [0, 0, 0, 2],\n",
              "       [0, 0, 1, 0],\n",
              "       [0, 0, 1, 1],\n",
              "       [0, 0, 1, 2],\n",
              "       [2, 0, 1, 1]], dtype=object)"
            ]
          },
          "metadata": {},
          "execution_count": 7
        }
      ]
    },
    {
      "cell_type": "code",
      "source": [
        "# salvando os dados pre-processados\n",
        "import pickle\n",
        "with open('risco_credito.pkl', 'wb') as f:\n",
        "  pickle.dump([x_risco_credito, y_risco_credito], f) "
      ],
      "metadata": {
        "id": "ltKQcy2FzYV4"
      },
      "execution_count": 8,
      "outputs": []
    },
    {
      "cell_type": "code",
      "source": [
        "from sklearn.tree import DecisionTreeClassifier"
      ],
      "metadata": {
        "id": "L6EYs4rJzbzC"
      },
      "execution_count": 9,
      "outputs": []
    },
    {
      "cell_type": "code",
      "source": [
        "import pickle\n",
        "with open('risco_credito.pkl', 'rb') as f:  # abrindo o arquivo já pre-processado\n",
        "  x_risco_credito, y_risco_credito = pickle.load(f)\n",
        "\n"
      ],
      "metadata": {
        "id": "9yXYL8Ebzd5j"
      },
      "execution_count": 10,
      "outputs": []
    },
    {
      "cell_type": "code",
      "source": [
        "x_risco_credito"
      ],
      "metadata": {
        "colab": {
          "base_uri": "https://localhost:8080/"
        },
        "id": "_yQY-RGTzerC",
        "outputId": "e7b778ec-1e6e-4033-da41-4f135c7706c4"
      },
      "execution_count": 11,
      "outputs": [
        {
          "output_type": "execute_result",
          "data": {
            "text/plain": [
              "array([[2, 0, 1, 0],\n",
              "       [1, 0, 1, 1],\n",
              "       [1, 1, 1, 1],\n",
              "       [1, 1, 1, 2],\n",
              "       [1, 1, 1, 2],\n",
              "       [1, 1, 0, 2],\n",
              "       [2, 1, 1, 0],\n",
              "       [2, 1, 0, 2],\n",
              "       [0, 1, 1, 2],\n",
              "       [0, 0, 0, 2],\n",
              "       [0, 0, 1, 0],\n",
              "       [0, 0, 1, 1],\n",
              "       [0, 0, 1, 2],\n",
              "       [2, 0, 1, 1]], dtype=object)"
            ]
          },
          "metadata": {},
          "execution_count": 11
        }
      ]
    },
    {
      "cell_type": "code",
      "source": [
        "y_risco_credito"
      ],
      "metadata": {
        "colab": {
          "base_uri": "https://localhost:8080/"
        },
        "id": "8uuRAG04ziXa",
        "outputId": "b7237ebc-163a-460d-fd20-868a9e107a67"
      },
      "execution_count": 12,
      "outputs": [
        {
          "output_type": "execute_result",
          "data": {
            "text/plain": [
              "array(['Alto', 'Alto', 'Moderado', 'Alto', 'Baixo', 'Baixo', 'Alto',\n",
              "       'Moderado', 'Baixo', 'Baixo', 'Alto', 'Moderado', 'Baixo', 'Alto'],\n",
              "      dtype=object)"
            ]
          },
          "metadata": {},
          "execution_count": 12
        }
      ]
    },
    {
      "cell_type": "code",
      "source": [
        "from sklearn.model_selection import train_test_split\n",
        "x_train, x_test, y_train, y_test = train_test_split(x_risco_credito, y_risco_credito, test_size = 0.25, random_state = 0)"
      ],
      "metadata": {
        "id": "3P94Z_uOzi-a"
      },
      "execution_count": 15,
      "outputs": []
    },
    {
      "cell_type": "code",
      "source": [
        "x_risco_credito"
      ],
      "metadata": {
        "colab": {
          "base_uri": "https://localhost:8080/"
        },
        "id": "YvMzxeGI0N8s",
        "outputId": "9bbac040-bf0c-4911-c7df-e91d43dac2f9"
      },
      "execution_count": 18,
      "outputs": [
        {
          "output_type": "execute_result",
          "data": {
            "text/plain": [
              "array([[2, 0, 1, 0],\n",
              "       [1, 0, 1, 1],\n",
              "       [1, 1, 1, 1],\n",
              "       [1, 1, 1, 2],\n",
              "       [1, 1, 1, 2],\n",
              "       [1, 1, 0, 2],\n",
              "       [2, 1, 1, 0],\n",
              "       [2, 1, 0, 2],\n",
              "       [0, 1, 1, 2],\n",
              "       [0, 0, 0, 2],\n",
              "       [0, 0, 1, 0],\n",
              "       [0, 0, 1, 1],\n",
              "       [0, 0, 1, 2],\n",
              "       [2, 0, 1, 1]], dtype=object)"
            ]
          },
          "metadata": {},
          "execution_count": 18
        }
      ]
    },
    {
      "cell_type": "code",
      "source": [
        "x_train"
      ],
      "metadata": {
        "colab": {
          "base_uri": "https://localhost:8080/"
        },
        "id": "hVCvezwu1OFj",
        "outputId": "5d671052-5587-4378-b12d-7c9cba79e536"
      },
      "execution_count": 19,
      "outputs": [
        {
          "output_type": "execute_result",
          "data": {
            "text/plain": [
              "array([[1, 1, 1, 1],\n",
              "       [2, 0, 1, 1],\n",
              "       [0, 0, 0, 2],\n",
              "       [1, 0, 1, 1],\n",
              "       [2, 1, 0, 2],\n",
              "       [0, 0, 1, 0],\n",
              "       [1, 1, 1, 2],\n",
              "       [2, 0, 1, 0],\n",
              "       [1, 1, 0, 2],\n",
              "       [0, 0, 1, 2]], dtype=object)"
            ]
          },
          "metadata": {},
          "execution_count": 19
        }
      ]
    },
    {
      "cell_type": "code",
      "source": [
        "from sklearn import tree\n",
        "model = tree.DecisionTreeClassifier(random_state=0, max_depth=None, min_samples_split=2, min_samples_leaf=1, min_weight_fraction_leaf=0, max_leaf_nodes=None, min_impurity_decrease=0)"
      ],
      "metadata": {
        "id": "JHsKji_31oeC"
      },
      "execution_count": 20,
      "outputs": []
    },
    {
      "cell_type": "code",
      "source": [
        "clf = model.fit(x_train, y_train)"
      ],
      "metadata": {
        "id": "CCFhKA7y2gSq"
      },
      "execution_count": 21,
      "outputs": []
    },
    {
      "cell_type": "code",
      "source": [
        "from sklearn import tree\n",
        "import matplotlib.pyplot as plt\n",
        "\n",
        "previsores = ['historia de credito', 'divida', 'garantias', 'renda']\n",
        "figura, eixos = plt.subplots(nrows = 1, ncols =1, figsize=(10,10))\n",
        "tree.plot_tree(clf, feature_names=previsores, class_names = clf.classes_, filled= True)"
      ],
      "metadata": {
        "colab": {
          "base_uri": "https://localhost:8080/",
          "height": 778
        },
        "id": "2zFIrG4w-LPv",
        "outputId": "5936e78a-69e7-4b58-e93f-b2127b67703c"
      },
      "execution_count": 30,
      "outputs": [
        {
          "output_type": "execute_result",
          "data": {
            "text/plain": [
              "[Text(0.5, 0.9, 'renda <= 1.5\\ngini = 0.62\\nsamples = 10\\nvalue = [5, 3, 2]\\nclass = Alto'),\n",
              " Text(0.25, 0.7, 'divida <= 0.5\\ngini = 0.32\\nsamples = 5\\nvalue = [4, 0, 1]\\nclass = Alto'),\n",
              " Text(0.125, 0.5, 'gini = 0.0\\nsamples = 4\\nvalue = [4, 0, 0]\\nclass = Alto'),\n",
              " Text(0.375, 0.5, 'gini = 0.0\\nsamples = 1\\nvalue = [0, 0, 1]\\nclass = Moderado'),\n",
              " Text(0.75, 0.7, 'historia de credito <= 1.5\\ngini = 0.56\\nsamples = 5\\nvalue = [1, 3, 1]\\nclass = Baixo'),\n",
              " Text(0.625, 0.5, 'garantias <= 0.5\\ngini = 0.375\\nsamples = 4\\nvalue = [1, 3, 0]\\nclass = Baixo'),\n",
              " Text(0.5, 0.3, 'gini = 0.0\\nsamples = 2\\nvalue = [0, 2, 0]\\nclass = Baixo'),\n",
              " Text(0.75, 0.3, 'historia de credito <= 0.5\\ngini = 0.5\\nsamples = 2\\nvalue = [1, 1, 0]\\nclass = Alto'),\n",
              " Text(0.625, 0.1, 'gini = 0.0\\nsamples = 1\\nvalue = [0, 1, 0]\\nclass = Baixo'),\n",
              " Text(0.875, 0.1, 'gini = 0.0\\nsamples = 1\\nvalue = [1, 0, 0]\\nclass = Alto'),\n",
              " Text(0.875, 0.5, 'gini = 0.0\\nsamples = 1\\nvalue = [0, 0, 1]\\nclass = Moderado')]"
            ]
          },
          "metadata": {},
          "execution_count": 30
        },
        {
          "output_type": "display_data",
          "data": {
            "text/plain": [
              "<Figure size 720x720 with 1 Axes>"
            ],
            "image/png": "[encoded data removed]"
          },
          "metadata": {
            "needs_background": "light"
          }
        }
      ]
    },
    {
      "cell_type": "code",
      "source": [
        "y_pred = clf.predict(x_test)\n"
      ],
      "metadata": {
        "id": "88_4TCC_ArUS"
      },
      "execution_count": 34,
      "outputs": []
    },
    {
      "cell_type": "code",
      "source": [
        "from sklearn.metrics import classification_report\n",
        "from sklearn.metrics import accuracy_score\n",
        "# validação\n",
        "akurasi = classification_report(y_test, y_pred)\n",
        "print('Akurasi:', akurasi)"
      ],
      "metadata": {
        "colab": {
          "base_uri": "https://localhost:8080/"
        },
        "id": "tgc8MPObA7q7",
        "outputId": "af96b4b9-301f-41ea-efb6-176904b90daf"
      },
      "execution_count": 37,
      "outputs": [
        {
          "output_type": "stream",
          "name": "stdout",
          "text": [
            "Akurasi:               precision    recall  f1-score   support\n",
            "\n",
            "        Alto       0.00      0.00      0.00         1\n",
            "       Baixo       1.00      0.50      0.67         2\n",
            "    Moderado       0.00      0.00      0.00         1\n",
            "\n",
            "    accuracy                           0.25         4\n",
            "   macro avg       0.33      0.17      0.22         4\n",
            "weighted avg       0.50      0.25      0.33         4\n",
            "\n"
          ]
        }
      ]
    },
    {
      "cell_type": "code",
      "source": [
        "akurasi = accuracy_score(y_test, y_pred)\n",
        "print('%d porcento' %(akurasi*100))"
      ],
      "metadata": {
        "colab": {
          "base_uri": "https://localhost:8080/"
        },
        "id": "IlTBczMsCDEK",
        "outputId": "7c2a99d7-5783-44c7-d094-f0fad160fb96"
      },
      "execution_count": 38,
      "outputs": [
        {
          "output_type": "stream",
          "name": "stdout",
          "text": [
            "25 porcento\n"
          ]
        }
      ]
    },
    {
      "cell_type": "code",
      "source": [
        "#espaço para realizar testes:\n",
        "#Entradas em numeros para as instancias:\n",
        "#Pra Historia de credito\n",
        "# 0 ->  Boa\n",
        "# 1 ->  Desconhecida\n",
        "# 2 ->  Ruim\n",
        "\n",
        "\n",
        "#Pra Divida\n",
        "# 0 ->  Alta\n",
        "# 1 ->  Baixa\n",
        "\n",
        "#Pra Garantia\n",
        "# 0 ->  Adequada\n",
        "# 1 ->  Nenhuma\n",
        "\n",
        "\n",
        "#Pra Renda\n",
        "# 0 ->  entre 0 e 15\n",
        "# 1 ->  entre 15 e 35\n",
        "# 2 -> acima de 35\n",
        "\n",
        "\n",
        "\n",
        "#exemplo para [boa, baixa, nenhuma, entre 0 e 15]\n",
        "previsores= clf.predict([[0,1,1, 0]])\n",
        "previsores"
      ],
      "metadata": {
        "colab": {
          "base_uri": "https://localhost:8080/"
        },
        "id": "5C8M18ntC141",
        "outputId": "15315a33-05f2-49fd-da2c-dfc0cab59935"
      },
      "execution_count": 39,
      "outputs": [
        {
          "output_type": "execute_result",
          "data": {
            "text/plain": [
              "array(['Moderado'], dtype=object)"
            ]
          },
          "metadata": {},
          "execution_count": 39
        }
      ]
    }
  ]
}
{
  "nbformat": 4,
  "nbformat_minor": 0,
  "metadata": {
    "colab": {
      "provenance": [],
      "collapsed_sections": [],
      "authorship_tag": "ABX9TyO9PrXZ4hiLPsyuFkDcM2fh",
      "include_colab_link": true
    },
    "kernelspec": {
      "name": "python3",
      "display_name": "Python 3"
    },
    "language_info": {
      "name": "python"
    }
  },
  "cells": [
    {
      "cell_type": "markdown",
      "metadata": {
        "id": "view-in-github",
        "colab_type": "text"
      },
      "source": [
        "<a href=\"https://colab.research.google.com/github/PedroMesquitaIsidoro/ArvoreDeDecisao-IA/blob/main/Questao1/Analise_de_risco_ID3.ipynb\" target=\"_parent\"><img src=\"https://colab.research.google.com/assets/colab-badge.svg\" alt=\"Open In Colab\"/></a>"
      ]
    },
    {
      "cell_type": "code",
      "source": [
        "import pandas as pd # para trabalhar com a planilha\n",
        "import numpy as np # para calculos \n",
        "base_risco_credito = pd.read_csv('RiscoDeCredito.csv')\n",
        "base_risco_credito"
      ],
      "metadata": {
        "colab": {
          "base_uri": "https://localhost:8080/",
          "height": 488
        },
        "id": "EdgtpcRgkLFN",
        "outputId": "0e981237-dc79-4ec6-a844-6fde11242406"
      },
      "execution_count": 3,
      "outputs": [
        {
          "output_type": "execute_result",
          "data": {
            "text/plain": [
              "   Historia de Credito Divida  Garantia     Renda     Risco\n",
              "0                 Ruim   Alta   Nenhuma      0_15      Alto\n",
              "1         Desconhecida   Alta   Nenhuma     15_35      Alto\n",
              "2         Desconhecida  Baixa   Nenhuma     15_35  Moderado\n",
              "3         Desconhecida  Baixa   Nenhuma  acima_35      Alto\n",
              "4         Desconhecida  Baixa   Nenhuma  acima_35     Baixo\n",
              "5         Desconhecida  Baixa  Adequada  acima_35     Baixo\n",
              "6                 Ruim  Baixa   Nenhuma      0_15      Alto\n",
              "7                 Ruim  Baixa  Adequada  acima_35  Moderado\n",
              "8                  Boa  Baixa   Nenhuma  acima_35     Baixo\n",
              "9                  Boa   Alta  Adequada  acima_35     Baixo\n",
              "10                 Boa   Alta   Nenhuma      0_15      Alto\n",
              "11                 Boa   Alta   Nenhuma     15_35  Moderado\n",
              "12                 Boa   Alta   Nenhuma  acima_35     Baixo\n",
              "13                Ruim   Alta   Nenhuma     15_35      Alto"
            ],
            "text/html": [
              "\n",
              "  <div id=\"df-89e3cf2c-be0f-4358-a9c8-f5283a617051\">\n",
              "    <div class=\"colab-df-container\">\n",
              "      <div>\n",
              "<style scoped>\n",
              "    .dataframe tbody tr th:only-of-type {\n",
              "        vertical-align: middle;\n",
              "    }\n",
              "\n",
              "    .dataframe tbody tr th {\n",
              "        vertical-align: top;\n",
              "    }\n",
              "\n",
              "    .dataframe thead th {\n",
              "        text-align: right;\n",
              "    }\n",
              "</style>\n",
              "<table border=\"1\" class=\"dataframe\">\n",
              "  <thead>\n",
              "    <tr style=\"text-align: right;\">\n",
              "      <th></th>\n",
              "      <th>Historia de Credito</th>\n",
              "      <th>Divida</th>\n",
              "      <th>Garantia</th>\n",
              "      <th>Renda</th>\n",
              "      <th>Risco</th>\n",
              "    </tr>\n",
              "  </thead>\n",
              "  <tbody>\n",
              "    <tr>\n",
              "      <th>0</th>\n",
              "      <td>Ruim</td>\n",
              "      <td>Alta</td>\n",
              "      <td>Nenhuma</td>\n",
              "      <td>0_15</td>\n",
              "      <td>Alto</td>\n",
              "    </tr>\n",
              "    <tr>\n",
              "      <th>1</th>\n",
              "      <td>Desconhecida</td>\n",
              "      <td>Alta</td>\n",
              "      <td>Nenhuma</td>\n",
              "      <td>15_35</td>\n",
              "      <td>Alto</td>\n",
              "    </tr>\n",
              "    <tr>\n",
              "      <th>2</th>\n",
              "      <td>Desconhecida</td>\n",
              "      <td>Baixa</td>\n",
              "      <td>Nenhuma</td>\n",
              "      <td>15_35</td>\n",
              "      <td>Moderado</td>\n",
              "    </tr>\n",
              "    <tr>\n",
              "      <th>3</th>\n",
              "      <td>Desconhecida</td>\n",
              "      <td>Baixa</td>\n",
              "      <td>Nenhuma</td>\n",
              "      <td>acima_35</td>\n",
              "      <td>Alto</td>\n",
              "    </tr>\n",
              "    <tr>\n",
              "      <th>4</th>\n",
              "      <td>Desconhecida</td>\n",
              "      <td>Baixa</td>\n",
              "      <td>Nenhuma</td>\n",
              "      <td>acima_35</td>\n",
              "      <td>Baixo</td>\n",
              "    </tr>\n",
              "    <tr>\n",
              "      <th>5</th>\n",
              "      <td>Desconhecida</td>\n",
              "      <td>Baixa</td>\n",
              "      <td>Adequada</td>\n",
              "      <td>acima_35</td>\n",
              "      <td>Baixo</td>\n",
              "    </tr>\n",
              "    <tr>\n",
              "      <th>6</th>\n",
              "      <td>Ruim</td>\n",
              "      <td>Baixa</td>\n",
              "      <td>Nenhuma</td>\n",
              "      <td>0_15</td>\n",
              "      <td>Alto</td>\n",
              "    </tr>\n",
              "    <tr>\n",
              "      <th>7</th>\n",
              "      <td>Ruim</td>\n",
              "      <td>Baixa</td>\n",
              "      <td>Adequada</td>\n",
              "      <td>acima_35</td>\n",
              "      <td>Moderado</td>\n",
              "    </tr>\n",
              "    <tr>\n",
              "      <th>8</th>\n",
              "      <td>Boa</td>\n",
              "      <td>Baixa</td>\n",
              "      <td>Nenhuma</td>\n",
              "      <td>acima_35</td>\n",
              "      <td>Baixo</td>\n",
              "    </tr>\n",
              "    <tr>\n",
              "      <th>9</th>\n",
              "      <td>Boa</td>\n",
              "      <td>Alta</td>\n",
              "      <td>Adequada</td>\n",
              "      <td>acima_35</td>\n",
              "      <td>Baixo</td>\n",
              "    </tr>\n",
              "    <tr>\n",
              "      <th>10</th>\n",
              "      <td>Boa</td>\n",
              "      <td>Alta</td>\n",
              "      <td>Nenhuma</td>\n",
              "      <td>0_15</td>\n",
              "      <td>Alto</td>\n",
              "    </tr>\n",
              "    <tr>\n",
              "      <th>11</th>\n",
              "      <td>Boa</td>\n",
              "      <td>Alta</td>\n",
              "      <td>Nenhuma</td>\n",
              "      <td>15_35</td>\n",
              "      <td>Moderado</td>\n",
              "    </tr>\n",
              "    <tr>\n",
              "      <th>12</th>\n",
              "      <td>Boa</td>\n",
              "      <td>Alta</td>\n",
              "      <td>Nenhuma</td>\n",
              "      <td>acima_35</td>\n",
              "      <td>Baixo</td>\n",
              "    </tr>\n",
              "    <tr>\n",
              "      <th>13</th>\n",
              "      <td>Ruim</td>\n",
              "      <td>Alta</td>\n",
              "      <td>Nenhuma</td>\n",
              "      <td>15_35</td>\n",
              "      <td>Alto</td>\n",
              "    </tr>\n",
              "  </tbody>\n",
              "</table>\n",
              "</div>\n",
              "      <button class=\"colab-df-convert\" onclick=\"convertToInteractive('df-89e3cf2c-be0f-4358-a9c8-f5283a617051')\"\n",
              "              title=\"Convert this dataframe to an interactive table.\"\n",
              "              style=\"display:none;\">\n",
              "        \n",
              "  <svg xmlns=\"http://www.w3.org/2000/svg\" height=\"24px\"viewBox=\"0 0 24 24\"\n",
              "       width=\"24px\">\n",
              "    <path d=\"M0 0h24v24H0V0z\" fill=\"none\"/>\n",
              "    <path d=\"M18.56 5.44l.94 2.06.94-2.06 2.06-.94-2.06-.94-.94-2.06-.94 2.06-2.06.94zm-11 1L8.5 8.5l.94-2.06 2.06-.94-2.06-.94L8.5 2.5l-.94 2.06-2.06.94zm10 10l.94 2.06.94-2.06 2.06-.94-2.06-.94-.94-2.06-.94 2.06-2.06.94z\"/><path d=\"M17.41 7.96l-1.37-1.37c-.4-.4-.92-.59-1.43-.59-.52 0-1.04.2-1.43.59L10.3 9.45l-7.72 7.72c-.78.78-.78 2.05 0 2.83L4 21.41c.39.39.9.59 1.41.59.51 0 1.02-.2 1.41-.59l7.78-7.78 2.81-2.81c.8-.78.8-2.07 0-2.86zM5.41 20L4 18.59l7.72-7.72 1.47 1.35L5.41 20z\"/>\n",
              "  </svg>\n",
              "      </button>\n",
              "      \n",
              "  <style>\n",
              "    .colab-df-container {\n",
              "      display:flex;\n",
              "      flex-wrap:wrap;\n",
              "      gap: 12px;\n",
              "    }\n",
              "\n",
              "    .colab-df-convert {\n",
              "      background-color: #E8F0FE;\n",
              "      border: none;\n",
              "      border-radius: 50%;\n",
              "      cursor: pointer;\n",
              "      display: none;\n",
              "      fill: #1967D2;\n",
              "      height: 32px;\n",
              "      padding: 0 0 0 0;\n",
              "      width: 32px;\n",
              "    }\n",
              "\n",
              "    .colab-df-convert:hover {\n",
              "      background-color: #E2EBFA;\n",
              "      box-shadow: 0px 1px 2px rgba(60, 64, 67, 0.3), 0px 1px 3px 1px rgba(60, 64, 67, 0.15);\n",
              "      fill: #174EA6;\n",
              "    }\n",
              "\n",
              "    [theme=dark] .colab-df-convert {\n",
              "      background-color: #3B4455;\n",
              "      fill: #D2E3FC;\n",
              "    }\n",
              "\n",
              "    [theme=dark] .colab-df-convert:hover {\n",
              "      background-color: #434B5C;\n",
              "      box-shadow: 0px 1px 3px 1px rgba(0, 0, 0, 0.15);\n",
              "      filter: drop-shadow(0px 1px 2px rgba(0, 0, 0, 0.3));\n",
              "      fill: #FFFFFF;\n",
              "    }\n",
              "  </style>\n",
              "\n",
              "      <script>\n",
              "        const buttonEl =\n",
              "          document.querySelector('#df-89e3cf2c-be0f-4358-a9c8-f5283a617051 button.colab-df-convert');\n",
              "        buttonEl.style.display =\n",
              "          google.colab.kernel.accessAllowed ? 'block' : 'none';\n",
              "\n",
              "        async function convertToInteractive(key) {\n",
              "          const element = document.querySelector('#df-89e3cf2c-be0f-4358-a9c8-f5283a617051');\n",
              "          const dataTable =\n",
              "            await google.colab.kernel.invokeFunction('convertToInteractive',\n",
              "                                                     [key], {});\n",
              "          if (!dataTable) return;\n",
              "\n",
              "          const docLinkHtml = 'Like what you see? Visit the ' +\n",
              "            '<a target=\"_blank\" href=https://colab.research.google.com/notebooks/data_table.ipynb>data table notebook</a>'\n",
              "            + ' to learn more about interactive tables.';\n",
              "          element.innerHTML = '';\n",
              "          dataTable['output_type'] = 'display_data';\n",
              "          await google.colab.output.renderOutput(dataTable, element);\n",
              "          const docLink = document.createElement('div');\n",
              "          docLink.innerHTML = docLinkHtml;\n",
              "          element.appendChild(docLink);\n",
              "        }\n",
              "      </script>\n",
              "    </div>\n",
              "  </div>\n",
              "  "
            ]
          },
          "metadata": {},
          "execution_count": 3
        }
      ]
    },
    {
      "cell_type": "code",
      "source": [
        "#Pre-processamento dos dados\n",
        "x_risco_credito = base_risco_credito.iloc[:, 0:4].values\n",
        "x_risco_credito #mostra todos os atributos com excessao da clase"
      ],
      "metadata": {
        "colab": {
          "base_uri": "https://localhost:8080/"
        },
        "id": "nYWDEH5aksZz",
        "outputId": "e1b80f7c-2f7c-4f61-cfac-129359355c4c"
      },
      "execution_count": 5,
      "outputs": [
        {
          "output_type": "execute_result",
          "data": {
            "text/plain": [
              "array([['Ruim', 'Alta', 'Nenhuma', '0_15'],\n",
              "       ['Desconhecida', 'Alta', 'Nenhuma', '15_35'],\n",
              "       ['Desconhecida', 'Baixa', 'Nenhuma', '15_35'],\n",
              "       ['Desconhecida', 'Baixa', 'Nenhuma', 'acima_35'],\n",
              "       ['Desconhecida', 'Baixa', 'Nenhuma', 'acima_35'],\n",
              "       ['Desconhecida', 'Baixa', 'Adequada', 'acima_35'],\n",
              "       ['Ruim', 'Baixa', 'Nenhuma', '0_15'],\n",
              "       ['Ruim', 'Baixa', 'Adequada', 'acima_35'],\n",
              "       ['Boa', 'Baixa', 'Nenhuma', 'acima_35'],\n",
              "       ['Boa', 'Alta', 'Adequada', 'acima_35'],\n",
              "       ['Boa', 'Alta', 'Nenhuma', '0_15'],\n",
              "       ['Boa', 'Alta', 'Nenhuma', '15_35'],\n",
              "       ['Boa', 'Alta', 'Nenhuma', 'acima_35'],\n",
              "       ['Ruim', 'Alta', 'Nenhuma', '15_35']], dtype=object)"
            ]
          },
          "metadata": {},
          "execution_count": 5
        }
      ]
    },
    {
      "cell_type": "code",
      "source": [
        "#Pre-processamento dos dados\n",
        "y_risco_credito = base_risco_credito.iloc[:, 4].values\n",
        "y_risco_credito #mostrar classe"
      ],
      "metadata": {
        "colab": {
          "base_uri": "https://localhost:8080/"
        },
        "id": "RUA2hQyLlMHb",
        "outputId": "dcc19394-dc46-4e91-82fb-df011da43649"
      },
      "execution_count": 7,
      "outputs": [
        {
          "output_type": "execute_result",
          "data": {
            "text/plain": [
              "array(['Alto', 'Alto', 'Moderado', 'Alto', 'Baixo', 'Baixo', 'Alto',\n",
              "       'Moderado', 'Baixo', 'Baixo', 'Alto', 'Moderado', 'Baixo', 'Alto'],\n",
              "      dtype=object)"
            ]
          },
          "metadata": {},
          "execution_count": 7
        }
      ]
    },
    {
      "cell_type": "code",
      "source": [
        "#Pre-processamento dos dados\n",
        "from sklearn.preprocessing import LabelEncoder\n",
        "label_encoder_historia = LabelEncoder()\n",
        "label_encoder_divida = LabelEncoder()\n",
        "label_encoder_garantia = LabelEncoder()\n",
        "label_encoder_renda = LabelEncoder()"
      ],
      "metadata": {
        "id": "0FoJwzj0livD"
      },
      "execution_count": 8,
      "outputs": []
    },
    {
      "cell_type": "code",
      "source": [
        "#Pre-processamento dos dados\n",
        "x_risco_credito[:, 0] = label_encoder_historia.fit_transform(x_risco_credito[:, 0])\n",
        "x_risco_credito[:, 1] = label_encoder_divida.fit_transform(x_risco_credito[:, 1])\n",
        "x_risco_credito[:, 2] = label_encoder_garantia.fit_transform(x_risco_credito[:, 2])\n",
        "x_risco_credito[:, 3] = label_encoder_renda.fit_transform(x_risco_credito[:, 3])"
      ],
      "metadata": {
        "id": "0IaoFSaEl_K9"
      },
      "execution_count": 9,
      "outputs": []
    },
    {
      "cell_type": "code",
      "source": [
        "#Pre-processamento dos dados\n",
        "x_risco_credito"
      ],
      "metadata": {
        "colab": {
          "base_uri": "https://localhost:8080/"
        },
        "id": "PD-cZ89_mhuM",
        "outputId": "03486faa-4289-4b82-e9e8-6645e5af3204"
      },
      "execution_count": 10,
      "outputs": [
        {
          "output_type": "execute_result",
          "data": {
            "text/plain": [
              "array([[2, 0, 1, 0],\n",
              "       [1, 0, 1, 1],\n",
              "       [1, 1, 1, 1],\n",
              "       [1, 1, 1, 2],\n",
              "       [1, 1, 1, 2],\n",
              "       [1, 1, 0, 2],\n",
              "       [2, 1, 1, 0],\n",
              "       [2, 1, 0, 2],\n",
              "       [0, 1, 1, 2],\n",
              "       [0, 0, 0, 2],\n",
              "       [0, 0, 1, 0],\n",
              "       [0, 0, 1, 1],\n",
              "       [0, 0, 1, 2],\n",
              "       [2, 0, 1, 1]], dtype=object)"
            ]
          },
          "metadata": {},
          "execution_count": 10
        }
      ]
    },
    {
      "cell_type": "code",
      "source": [
        "# salvando os dados pre-processados\n",
        "import pickle\n",
        "with open('risco_credito.pkl', 'wb') as f:\n",
        "  pickle.dump([x_risco_credito, y_risco_credito], f) "
      ],
      "metadata": {
        "id": "KjIiaN4fm0Xo"
      },
      "execution_count": 13,
      "outputs": []
    },
    {
      "cell_type": "code",
      "source": [
        "from sklearn.tree import DecisionTreeClassifier"
      ],
      "metadata": {
        "id": "4kviB6WqoV1M"
      },
      "execution_count": 14,
      "outputs": []
    },
    {
      "cell_type": "code",
      "source": [
        "import pickle\n",
        "with open('risco_credito.pkl', 'rb') as f:  # abrindo o arquivo já pre-processado\n",
        "  x_risco_credito, y_risco_credito = pickle.load(f)\n",
        "\n"
      ],
      "metadata": {
        "id": "2TTE5kz1odDr"
      },
      "execution_count": 17,
      "outputs": []
    },
    {
      "cell_type": "code",
      "source": [
        "x_risco_credito"
      ],
      "metadata": {
        "colab": {
          "base_uri": "https://localhost:8080/"
        },
        "id": "EPS54i1Zpa2F",
        "outputId": "5ceb7cc2-13aa-4ab0-9000-c9e2810ac0d5"
      },
      "execution_count": 18,
      "outputs": [
        {
          "output_type": "execute_result",
          "data": {
            "text/plain": [
              "array([[2, 0, 1, 0],\n",
              "       [1, 0, 1, 1],\n",
              "       [1, 1, 1, 1],\n",
              "       [1, 1, 1, 2],\n",
              "       [1, 1, 1, 2],\n",
              "       [1, 1, 0, 2],\n",
              "       [2, 1, 1, 0],\n",
              "       [2, 1, 0, 2],\n",
              "       [0, 1, 1, 2],\n",
              "       [0, 0, 0, 2],\n",
              "       [0, 0, 1, 0],\n",
              "       [0, 0, 1, 1],\n",
              "       [0, 0, 1, 2],\n",
              "       [2, 0, 1, 1]], dtype=object)"
            ]
          },
          "metadata": {},
          "execution_count": 18
        }
      ]
    },
    {
      "cell_type": "code",
      "source": [
        "y_risco_credito"
      ],
      "metadata": {
        "colab": {
          "base_uri": "https://localhost:8080/"
        },
        "id": "4L8dDg1CphXD",
        "outputId": "c7fb348d-90d4-489e-e83b-8bb50262b0d1"
      },
      "execution_count": 19,
      "outputs": [
        {
          "output_type": "execute_result",
          "data": {
            "text/plain": [
              "array(['Alto', 'Alto', 'Moderado', 'Alto', 'Baixo', 'Baixo', 'Alto',\n",
              "       'Moderado', 'Baixo', 'Baixo', 'Alto', 'Moderado', 'Baixo', 'Alto'],\n",
              "      dtype=object)"
            ]
          },
          "metadata": {},
          "execution_count": 19
        }
      ]
    },
    {
      "cell_type": "code",
      "source": [
        "#Criando a arvore de decisao com o criterio da entropia\n",
        "arvore_risco_credito = DecisionTreeClassifier(criterion= 'entropy')\n",
        "arvore_risco_credito.fit(x_risco_credito, y_risco_credito)"
      ],
      "metadata": {
        "colab": {
          "base_uri": "https://localhost:8080/"
        },
        "id": "m11pg4CSpjxs",
        "outputId": "1facf679-85e4-4365-b602-2e9e259be35c"
      },
      "execution_count": 21,
      "outputs": [
        {
          "output_type": "execute_result",
          "data": {
            "text/plain": [
              "DecisionTreeClassifier(criterion='entropy')"
            ]
          },
          "metadata": {},
          "execution_count": 21
        }
      ]
    },
    {
      "cell_type": "code",
      "source": [
        "#Aqui eh realizado o calculo dos atributos com maiores ganho de informacao\n",
        "#Perceba que o que apresenta maior ganho de informacao eh o que esta mais a direita, localizado na ultima posicao\n",
        "#do array. No caso a renda e o atributo com maior ganho de informacao.\n",
        "#Ranking dos maiores ganhos\n",
        "# 1 -> Renda = 0.48098917\n",
        "# 2 -> Hisoria de credito = 0.41607015\n",
        "# 3 -> Divida = 0.06408636\n",
        "# 4 -> Garantia = 0.06408636\n",
        "#Sendo assim, a renda sera a raiz da nossa arvore\n",
        "arvore_risco_credito.feature_importances_"
      ],
      "metadata": {
        "colab": {
          "base_uri": "https://localhost:8080/"
        },
        "id": "0cKQTZ53qfID",
        "outputId": "e6f2f116-cf3a-44dd-a91e-a508fe017f3a"
      },
      "execution_count": 23,
      "outputs": [
        {
          "output_type": "execute_result",
          "data": {
            "text/plain": [
              "array([0.41607015, 0.06408636, 0.03885431, 0.48098917])"
            ]
          },
          "metadata": {},
          "execution_count": 23
        }
      ]
    },
    {
      "cell_type": "code",
      "source": [
        "arvore_risco_credito.classes_"
      ],
      "metadata": {
        "colab": {
          "base_uri": "https://localhost:8080/"
        },
        "id": "UkYOkaRutxsm",
        "outputId": "b13fed75-3952-43b4-a16f-f023f79d32a3"
      },
      "execution_count": 28,
      "outputs": [
        {
          "output_type": "execute_result",
          "data": {
            "text/plain": [
              "array(['Alto', 'Baixo', 'Moderado'], dtype=object)"
            ]
          },
          "metadata": {},
          "execution_count": 28
        }
      ]
    },
    {
      "cell_type": "code",
      "source": [
        "from sklearn import tree\n",
        "import matplotlib.pyplot as plt\n",
        "\n",
        "previsores = ['historia de credito', 'divida', 'garantias', 'renda']\n",
        "figura, eixos = plt.subplots(nrows = 1, ncols =1, figsize=(10,10))\n",
        "tree.plot_tree(arvore_risco_credito, feature_names=previsores, class_names = arvore_risco_credito.classes_, filled= True)"
      ],
      "metadata": {
        "colab": {
          "base_uri": "https://localhost:8080/",
          "height": 992
        },
        "id": "v9mMfJUesI70",
        "outputId": "f771eda1-112c-4292-89bb-ef7c26873e65"
      },
      "execution_count": 31,
      "outputs": [
        {
          "output_type": "execute_result",
          "data": {
            "text/plain": [
              "[Text(0.6363636363636364, 0.9166666666666666, 'renda <= 1.5\\nentropy = 1.531\\nsamples = 14\\nvalue = [6, 5, 3]\\nclass = Alto'),\n",
              " Text(0.45454545454545453, 0.75, 'historia de credito <= 1.5\\nentropy = 0.863\\nsamples = 7\\nvalue = [5, 0, 2]\\nclass = Alto'),\n",
              " Text(0.36363636363636365, 0.5833333333333334, 'divida <= 0.5\\nentropy = 1.0\\nsamples = 4\\nvalue = [2, 0, 2]\\nclass = Alto'),\n",
              " Text(0.2727272727272727, 0.4166666666666667, 'historia de credito <= 0.5\\nentropy = 0.918\\nsamples = 3\\nvalue = [2, 0, 1]\\nclass = Alto'),\n",
              " Text(0.18181818181818182, 0.25, 'renda <= 0.5\\nentropy = 1.0\\nsamples = 2\\nvalue = [1, 0, 1]\\nclass = Alto'),\n",
              " Text(0.09090909090909091, 0.08333333333333333, 'entropy = 0.0\\nsamples = 1\\nvalue = [1, 0, 0]\\nclass = Alto'),\n",
              " Text(0.2727272727272727, 0.08333333333333333, 'entropy = 0.0\\nsamples = 1\\nvalue = [0, 0, 1]\\nclass = Moderado'),\n",
              " Text(0.36363636363636365, 0.25, 'entropy = 0.0\\nsamples = 1\\nvalue = [1, 0, 0]\\nclass = Alto'),\n",
              " Text(0.45454545454545453, 0.4166666666666667, 'entropy = 0.0\\nsamples = 1\\nvalue = [0, 0, 1]\\nclass = Moderado'),\n",
              " Text(0.5454545454545454, 0.5833333333333334, 'entropy = 0.0\\nsamples = 3\\nvalue = [3, 0, 0]\\nclass = Alto'),\n",
              " Text(0.8181818181818182, 0.75, 'historia de credito <= 1.5\\nentropy = 1.149\\nsamples = 7\\nvalue = [1, 5, 1]\\nclass = Baixo'),\n",
              " Text(0.7272727272727273, 0.5833333333333334, 'historia de credito <= 0.5\\nentropy = 0.65\\nsamples = 6\\nvalue = [1, 5, 0]\\nclass = Baixo'),\n",
              " Text(0.6363636363636364, 0.4166666666666667, 'entropy = 0.0\\nsamples = 3\\nvalue = [0, 3, 0]\\nclass = Baixo'),\n",
              " Text(0.8181818181818182, 0.4166666666666667, 'garantias <= 0.5\\nentropy = 0.918\\nsamples = 3\\nvalue = [1, 2, 0]\\nclass = Baixo'),\n",
              " Text(0.7272727272727273, 0.25, 'entropy = 0.0\\nsamples = 1\\nvalue = [0, 1, 0]\\nclass = Baixo'),\n",
              " Text(0.9090909090909091, 0.25, 'entropy = 1.0\\nsamples = 2\\nvalue = [1, 1, 0]\\nclass = Alto'),\n",
              " Text(0.9090909090909091, 0.5833333333333334, 'entropy = 0.0\\nsamples = 1\\nvalue = [0, 0, 1]\\nclass = Moderado')]"
            ]
          },
          "metadata": {},
          "execution_count": 31
        },
        {
          "output_type": "display_data",
          "data": {
            "text/plain": [
              "<Figure size 720x720 with 1 Axes>"
            ],
            "image/png": "[encoded data removed]"
          },
          "metadata": {
            "needs_background": "light"
          }
        }
      ]
    },
    {
      "cell_type": "code",
      "source": [
        "#Entradas em numeros para as instancias:\n",
        "#Pra Historia de credito\n",
        "# 0 ->  Boa\n",
        "# 1 ->  Desconhecida\n",
        "# 2 ->  Ruim\n",
        "\n",
        "\n",
        "#Pra Divida\n",
        "# 0 ->  Alta\n",
        "# 1 ->  Baixa\n",
        "\n",
        "#Pra Garantia\n",
        "# 0 ->  Adequada\n",
        "# 1 ->  Nenhuma\n",
        "\n",
        "\n",
        "#Pra Renda\n",
        "# 0 ->  entre 0 e 15\n",
        "# 1 ->  entre 15 e 35\n",
        "# 2 -> acima de 35\n",
        "\n",
        "\n",
        "\n",
        "#exemplo para [boa, baixa, nenhuma, entre 0 e 15]\n",
        "previsores= arvore_risco_credito.predict([[0,1,1, 0]])\n",
        "previsores"
      ],
      "metadata": {
        "colab": {
          "base_uri": "https://localhost:8080/"
        },
        "id": "rBw422ZgvDZU",
        "outputId": "4d5e471c-b02b-465f-b0e3-55c21df74769"
      },
      "execution_count": 33,
      "outputs": [
        {
          "output_type": "execute_result",
          "data": {
            "text/plain": [
              "array(['Moderado'], dtype=object)"
            ]
          },
          "metadata": {},
          "execution_count": 33
        }
      ]
    }
  ]
}